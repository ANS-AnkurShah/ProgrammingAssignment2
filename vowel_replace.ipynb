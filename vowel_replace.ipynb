{
  "nbformat": 4,
  "nbformat_minor": 0,
  "metadata": {
    "colab": {
      "provenance": [],
      "authorship_tag": "ABX9TyM9y1ymjM629unXITYbWFJX",
      "include_colab_link": true
    },
    "kernelspec": {
      "name": "python3",
      "display_name": "Python 3"
    },
    "language_info": {
      "name": "python"
    }
  },
  "cells": [
    {
      "cell_type": "markdown",
      "metadata": {
        "id": "view-in-github",
        "colab_type": "text"
      },
      "source": [
        "<a href=\"https://colab.research.google.com/github/jedgarnaut/ProgrammingAssignment2/blob/master/vowel_replace.ipynb\" target=\"_parent\"><img src=\"https://colab.research.google.com/assets/colab-badge.svg\" alt=\"Open In Colab\"/></a>"
      ]
    },
    {
      "cell_type": "code",
      "execution_count": 18,
      "metadata": {
        "colab": {
          "base_uri": "https://localhost:8080/"
        },
        "id": "Jy0AUOg9Hhjp",
        "outputId": "fdea9195-8cf2-49b1-abd5-9f3ecc3bd1d4"
      },
      "outputs": [
        {
          "output_type": "stream",
          "name": "stdout",
          "text": [
            "Enter an animal name: Alligator\n",
            "ollogotor\n"
          ]
        }
      ],
      "source": [
        "animal = str.lower(input(\"Enter an animal name: \"))\n",
        "\n",
        "for letter in animal:\n",
        "  a2 = animal.replace(\"a\", \"o\")\n",
        "for letter in a2:\n",
        "  a3 = a2.replace(\"e\", \"o\")\n",
        "for letter in a3:\n",
        "  a4 = a3.replace(\"i\", \"o\")\n",
        "for letter in a4:\n",
        "  a5 = a4.replace(\"u\", \"o\")\n",
        "print(a5)\n",
        "\n",
        "\n"
      ]
    }
  ]
}