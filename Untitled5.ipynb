{
  "nbformat": 4,
  "nbformat_minor": 0,
  "metadata": {
    "colab": {
      "provenance": [],
      "toc_visible": true,
      "authorship_tag": "ABX9TyNkBuhIoB4yhiHR/G8Ndwlz",
      "include_colab_link": true
    },
    "kernelspec": {
      "name": "python3",
      "display_name": "Python 3"
    },
    "language_info": {
      "name": "python"
    }
  },
  "cells": [
    {
      "cell_type": "markdown",
      "metadata": {
        "id": "view-in-github",
        "colab_type": "text"
      },
      "source": [
        "<a href=\"https://colab.research.google.com/github/jedgarnaut/ProgrammingAssignment2/blob/master/Untitled5.ipynb\" target=\"_parent\"><img src=\"https://colab.research.google.com/assets/colab-badge.svg\" alt=\"Open In Colab\"/></a>"
      ]
    },
    {
      "cell_type": "code",
      "execution_count": 1,
      "metadata": {
        "colab": {
          "base_uri": "https://localhost:8080/"
        },
        "id": "L7g0udIqANl3",
        "outputId": "39b2295b-18b6-4253-e9e4-81abf6d5e1ad"
      },
      "outputs": [
        {
          "output_type": "stream",
          "name": "stdout",
          "text": [
            "   1   2   3\n",
            "1   |   |  \n",
            "2   |   |  \n",
            "3   |   |  \n",
            "Enter your move (row, column): 11\n",
            "Invalid input. Please enter row and column numbers separated by a comma.\n",
            "Enter your move (row, column): 1,1\n",
            "   1   2   3\n",
            "1 X |   |  \n",
            "2   |   |  \n",
            "3   |   |  \n",
            "Enter your move (row, column): 2,2\n",
            "   1   2   3\n",
            "1 X |   |  \n",
            "2   | O |  \n",
            "3   |   |  \n",
            "Enter your move (row, column): 3,3\n",
            "   1   2   3\n",
            "1 X |   |  \n",
            "2   | O |  \n",
            "3   |   | X\n",
            "Enter your move (row, column): 1,2\n",
            "   1   2   3\n",
            "1 X | O |  \n",
            "2   | O |  \n",
            "3   |   | X\n",
            "Enter your move (row, column): 3,2\n",
            "   1   2   3\n",
            "1 X | O |  \n",
            "2   | O |  \n",
            "3   | X | X\n",
            "Enter your move (row, column): 3,1\n",
            "   1   2   3\n",
            "1 X | O |  \n",
            "2   | O |  \n",
            "3 O | X | X\n",
            "Enter your move (row, column): 1,3\n",
            "   1   2   3\n",
            "1 X | O | X\n",
            "2   | O |  \n",
            "3 O | X | X\n",
            "Enter your move (row, column): 2,3\n",
            "   1   2   3\n",
            "1 X | O | X\n",
            "2   | O | O\n",
            "3 O | X | X\n",
            "Enter your move (row, column): 2,1\n",
            "   1   2   3\n",
            "1 X | O | X\n",
            "2 X | O | O\n",
            "3 O | X | X\n",
            "It's a tie!\n"
          ]
        }
      ],
      "source": [
        "def create_board():\n",
        "    \"\"\"Creates an empty tic-tac-toe board.\"\"\"\n",
        "    return [[\" \" for _ in range(3)] for _ in range(3)]\n",
        "\n",
        "\n",
        "def print_board(board):\n",
        "    \"\"\"Displays the current state of the tic-tac-toe board.\"\"\"\n",
        "    print(\"   1   2   3\")\n",
        "    for i, row in enumerate(board):\n",
        "        print(i + 1, \" | \".join(row))\n",
        "\n",
        "\n",
        "def get_player_move(board):\n",
        "    \"\"\"Gets a valid move from the player.\"\"\"\n",
        "    while True:\n",
        "        try:\n",
        "            row, col = map(int, input(\"Enter your move (row, column): \").split(\",\"))\n",
        "            if 1 <= row <= 3 and 1 <= col <= 3 and board[row - 1][col - 1] == \" \":\n",
        "                return row - 1, col - 1\n",
        "            else:\n",
        "                print(\"Invalid move. Please try again.\")\n",
        "        except ValueError:\n",
        "            print(\"Invalid input. Please enter row and column numbers separated by a comma.\")\n",
        "\n",
        "\n",
        "def check_win(board, player):\n",
        "    \"\"\"Checks if the given player has won the game.\"\"\"\n",
        "    # Check rows\n",
        "    for row in board:\n",
        "        if all(cell == player for cell in row):\n",
        "            return True\n",
        "    # Check columns\n",
        "    for col in range(3):\n",
        "        if all(board[row][col] == player for row in range(3)):\n",
        "            return True\n",
        "    # Check diagonals\n",
        "    if board[0][0] == player and board[1][1] == player and board[2][2] == player:\n",
        "        return True\n",
        "    if board[0][2] == player and board[1][1] == player and board[2][0] == player:\n",
        "        return True\n",
        "    return False\n",
        "\n",
        "\n",
        "def play_game():\n",
        "    \"\"\"Main game loop.\"\"\"\n",
        "    board = create_board()\n",
        "    current_player = \"X\"\n",
        "\n",
        "    while True:\n",
        "        print_board(board)\n",
        "        row, col = get_player_move(board)\n",
        "        board[row][col] = current_player\n",
        "\n",
        "        if check_win(board, current_player):\n",
        "            print_board(board)\n",
        "            print(f\"Player {current_player} wins!\")\n",
        "            break\n",
        "\n",
        "        if all(\" \" not in cell for row in board for cell in row):\n",
        "            print_board(board)\n",
        "            print(\"It's a tie!\")\n",
        "            break\n",
        "\n",
        "        current_player = \"O\" if current_player == \"X\" else \"X\"\n",
        "\n",
        "\n",
        "if __name__ == \"__main__\":\n",
        "    play_game()\n",
        "\n"
      ]
    },
    {
      "cell_type": "code",
      "source": [],
      "metadata": {
        "id": "bUoUHpe4ByoZ"
      },
      "execution_count": null,
      "outputs": []
    }
  ]
}