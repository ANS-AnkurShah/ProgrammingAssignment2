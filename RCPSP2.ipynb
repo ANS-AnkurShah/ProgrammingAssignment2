{
 "cells": [
  {
   "cell_type": "markdown",
   "metadata": {},
   "source": [
    "# Resource Constrained Project Scheduling Problem (RCPSP)\n",
    "Consider a project that consists of `n` jobs. Jobs are performed using `m` types of resources (e.g. people, machines, etc.). The number of available units of resource `k` is denoted by `R[k]`. Job `i` has to be processed for `d[i]` time units (duration). During this time, `r[i, k]` units of each resource `k` are occupied. Additionally, precedence constraints are defined among jobs: for each `(i, j) in p_tab`, job `i` must be finished before job `j` is started. We say that `i` is a predecessor of `j`, or that `j` is a successor of `i`.\n",
    "\n",
    "The goal of RCPSP is to find start and finish times of all jobs such that all jobs are completed, precedence and resource constraints are satisfied, and the project makespan (finish time of the last job) is minimized.\n",
    "\n",
    "Problem instances can be obtained by calling `(file, n, m, d, p_tab, r, R) = read_rcpsp_data(idx)` where `idx` indicates the index of the instance.\n",
    "* You should start your tests on instances with `idx in sel_instances`. \n",
    "* If you can, you should solve all instances with `idx in range(n_instances)`. "
   ]
  },
  {
   "cell_type": "code",
   "execution_count": 1,
   "metadata": {
    "jupyter": {
     "outputs_hidden": false
    }
   },
   "outputs": [
    {
     "name": "stdout",
     "output_type": "stream",
     "text": [
      "Number of all test instances: 1560\n",
      "Number of selected test instances: 10\n",
      "Selected instances:\n",
      "idx  file                    n    m  d_sum  p_tab_len\n",
      "0    J30/j301_1.sm          32    4    158         48\n",
      "4    J30/j301_5.sm          32    4    119         48\n",
      "120  J30/j3013_1.sm         32    4    151         48\n",
      "127  J30/j3013_8.sm         32    4    182         48\n",
      "445  J30/j3045_6.sm         32    4    195         68\n",
      "480  J60/j601_1.sm          62    4    329         93\n",
      "600  J60/j6013_1.sm         62    4    340         93\n",
      "982  J120/j1203_3.sm       122    4    648        183\n",
      "1114 J120/j12016_5.sm      122    4    650        183\n",
      "1518 J120/j12056_9.sm      122    4    711        257\n",
      "\n",
      "Data for example instance with idx = 0\n",
      "file = J30/j301_1.sm\n",
      "n = 32\n",
      "m = 4\n",
      "d = [0, 8, 4, 6, 3, 8, 5, 9, 2, 7, 9, 2, 6, 3, 9, 10, 6, 5, 3, 7, 2, 7, 2, 3, 3, 7, 8, 3, 7, 2, 2, 0]\n",
      "p_tab = [(0, 1), (0, 2), (0, 3), (1, 5), (1, 10), (1, 14), (2, 6), (2, 7), (2, 12), (3, 4), (3, 8), (3, 9), (4, 19), (5, 29), (6, 26), (7, 11), (7, 18), (7, 26), (8, 13), (9, 15), (9, 24), (10, 19), (10, 25), (11, 13), (12, 16), (12, 17), (13, 16), (14, 24), (15, 20), (15, 21), (16, 21), (17, 19), (17, 21), (18, 23), (18, 28), (19, 22), (19, 24), (20, 27), (21, 22), (22, 23), (23, 29), (24, 29), (25, 30), (26, 27), (27, 30), (28, 31), (29, 31), (30, 31)]\n",
      "R = [12, 13, 4, 12]\n",
      "r = [[ 0  0  0  0]\n",
      " [ 4  0  0  0]\n",
      " [10  0  0  0]\n",
      " [ 0  0  0  3]\n",
      " [ 3  0  0  0]\n",
      " [ 0  0  0  8]\n",
      " [ 4  0  0  0]\n",
      " [ 0  1  0  0]\n",
      " [ 6  0  0  0]\n",
      " [ 0  0  0  1]\n",
      " [ 0  5  0  0]\n",
      " [ 0  7  0  0]\n",
      " [ 4  0  0  0]\n",
      " [ 0  8  0  0]\n",
      " [ 3  0  0  0]\n",
      " [ 0  0  0  5]\n",
      " [ 0  0  0  8]\n",
      " [ 0  0  0  7]\n",
      " [ 0  1  0  0]\n",
      " [ 0 10  0  0]\n",
      " [ 0  0  0  6]\n",
      " [ 2  0  0  0]\n",
      " [ 3  0  0  0]\n",
      " [ 0  9  0  0]\n",
      " [ 4  0  0  0]\n",
      " [ 0  0  4  0]\n",
      " [ 0  0  0  7]\n",
      " [ 0  8  0  0]\n",
      " [ 0  7  0  0]\n",
      " [ 0  7  0  0]\n",
      " [ 0  0  2  0]\n",
      " [ 0  0  0  0]]\n"
     ]
    }
   ],
   "source": [
    "import numpy as np\n",
    "import pandas as pd\n",
    "from gurobipy import *\n",
    "data_dir = r'C:\\Users\\user\\Desktop\\MSBA 320\\Data/'\n",
    "def read_rcpsp_data(idx):\n",
    "    data_list = pd.read_csv(data_dir + 'all.txt')\n",
    "    assert (idx >= 0) and (idx < data_list.shape[0]), \"Index must be in the range\"\n",
    "    file = data_list.at[idx, 'File']\n",
    "    with open(data_dir + file) as f:\n",
    "        while True:\n",
    "            data = f.readline().split()\n",
    "            if data[0] == \"jobs\": break\n",
    "        n = int(data[-1]) # number of jobs\n",
    "        while True:\n",
    "            data = f.readline().split()\n",
    "            if data[-1] == \"R\": break\n",
    "        m = int(data[-2]) # number of resources\n",
    "        while True:\n",
    "            data = f.readline().split()\n",
    "            if data[0] == \"PRECEDENCE\": break\n",
    "        f.readline() # skip line\n",
    "        p_tab = [] # list of precedences\n",
    "        for i in range(n):\n",
    "            data = f.readline().split()\n",
    "            assert int(data[0]) == i + 1, \"First number should be the job number\"\n",
    "            assert int(data[1]) == 1, \"Second number should be 1\"\n",
    "            assert int(data[2]) == len(data) - 3, \"Third number should be the number of successors\"\n",
    "            for j in data[3:]: p_tab.append((i, int(j) - 1))\n",
    "        for i in range(n - 1): assert len([(k, j) for (k, j) in p_tab if k == i]) > 0, \"Each job except the last should have successors\"\n",
    "        assert len([(k, j) for (k, j) in p_tab if k == n - 1]) == 0, \"Last job should have no successors\"\n",
    "        for i in range(1, n): assert len([(j, k) for (j, k) in p_tab if k == i]) > 0, \"Each job except the first should have predecessors\"\n",
    "        assert len([(j, k) for (j, k) in p_tab if k == 0]) == 0, \"First job should have no predecessors\"\n",
    "        while True:\n",
    "            data = f.readline().split()\n",
    "            if data[0] == \"REQUESTS/DURATIONS:\": break\n",
    "        f.readline() # skip line\n",
    "        f.readline() # skip line\n",
    "        d = [0 for i in range(n)] # d[i] = duration of job i\n",
    "        r = np.zeros((n, m), dtype=np.int) # r[i, j] = # of units of resource j needed for job i\n",
    "        for i in range(n):\n",
    "            data = f.readline().split()\n",
    "            assert int(data[0]) == i + 1, \"First number should be the job number\"\n",
    "            assert int(data[1]) == 1, \"Second number should be 1\"\n",
    "            d[i] = int(data[2]) # job duration\n",
    "            assert len(data) == m + 3, \"The remaining numbers should be resource consumtion\"\n",
    "            r[i,:] = [int(j) for j in data[3:]]\n",
    "        while True:\n",
    "            data = f.readline().split()\n",
    "            if data[0] == \"RESOURCEAVAILABILITIES:\": break\n",
    "        f.readline() # skip line\n",
    "        data = f.readline().split()\n",
    "        R = [int(j) for j in data]\n",
    "    return (file, n, m, d, p_tab, r, R)\n",
    "\n",
    "n_instances = pd.read_csv(data_dir + 'all.txt').shape[0]\n",
    "print('Number of all test instances:', n_instances)\n",
    "sel_instances = [0, 4, 120, 127, 445, 480, 600, 982, 1114, 1518]\n",
    "print('Number of selected test instances:', len(sel_instances))\n",
    "print('Selected instances:')\n",
    "print('{:<4} {:20} {:>4} {:>4} {:>6} {:>10}'.format('idx', 'file', 'n', 'm', 'd_sum', 'p_tab_len'))\n",
    "for idx in sel_instances:\n",
    "    (file, n, m, d, p_tab, r, R) = read_rcpsp_data(idx)\n",
    "    print(\"{:<4} {:20} {:>4} {:>4} {:>6} {:>10}\".format(idx, file, n, m, sum(d), len(p_tab)))\n",
    "    \n",
    "idx = 0\n",
    "(file, n, m, d, p_tab, r, R) = read_rcpsp_data(idx)\n",
    "print('\\nData for example instance with idx =', idx)\n",
    "print(\"file =\", file)\n",
    "print(\"n =\", n)\n",
    "print(\"m =\", m)\n",
    "print(\"d =\", d)\n",
    "print(\"p_tab =\", p_tab)\n",
    "print(\"R =\", R)\n",
    "print(\"r =\", r)"
   ]
  },
  {
   "cell_type": "code",
   "execution_count": 2,
   "metadata": {},
   "outputs": [],
   "source": [
    "from numpy import cumsum ##finding upperbound\n",
    "UB=cumsum(d)"
   ]
  },
  {
   "cell_type": "code",
   "execution_count": 3,
   "metadata": {},
   "outputs": [
    {
     "data": {
      "text/plain": [
       "{0: '',\n",
       " 1: '',\n",
       " 2: '',\n",
       " 3: '',\n",
       " 5: '',\n",
       " 10: '',\n",
       " 14: '',\n",
       " 6: '',\n",
       " 7: '',\n",
       " 12: '',\n",
       " 4: '',\n",
       " 8: '',\n",
       " 9: '',\n",
       " 11: '',\n",
       " 18: '',\n",
       " 26: '',\n",
       " 15: '',\n",
       " 25: '',\n",
       " 13: '',\n",
       " 17: '',\n",
       " 16: '',\n",
       " 20: '',\n",
       " 19: '',\n",
       " 21: '',\n",
       " 28: '',\n",
       " 24: '',\n",
       " 22: '',\n",
       " 23: '',\n",
       " 29: '',\n",
       " 27: '',\n",
       " 30: '',\n",
       " 31: ''}"
      ]
     },
     "execution_count": 3,
     "metadata": {},
     "output_type": "execute_result"
    }
   ],
   "source": [
    "##precdence constraint\n",
    "import pandas as pd\n",
    "z=list(range(0,n))\n",
    "succ=[]\n",
    "pred=[]\n",
    "F=[] ## sorted activities as per precdence relationships\n",
    "F_new=[]\n",
    "for i,j in p_tab:\n",
    "        succ.append(j)\n",
    "list_dif = [i for i in z + succ if i not in succ or i not in z]\n",
    "F.append(list_dif)\n",
    "for i,j in p_tab:\n",
    "    if [i] in F:\n",
    "        F.append([j])\n",
    "p_new=[]        \n",
    "for i in z:\n",
    "    p=max(loc for loc, val in enumerate(F) if val == [i])\n",
    "    p_new.append(p)\n",
    "#print(p)\n",
    "#print(p_new)\n",
    "p_new.sort()\n",
    "for i in p_new:\n",
    "    F_new.append(F[i])\n",
    "#print(p_new)\n",
    "#print(F)  \n",
    "for i in range(0,n):\n",
    "    F_new[i]=int(F_new[i][0])\n",
    "dict((el,'') for el in F_new)\n"
   ]
  },
  {
   "cell_type": "code",
   "execution_count": 15,
   "metadata": {},
   "outputs": [
    {
     "name": "stdout",
     "output_type": "stream",
     "text": [
      "Optimize a model with 80 rows, 32 columns and 96 nonzeros\n",
      "Variable types: 0 continuous, 32 integer (0 binary)\n",
      "Coefficient statistics:\n",
      "  Matrix range     [1e+00, 1e+00]\n",
      "  Objective range  [1e+00, 1e+00]\n",
      "  Bounds range     [8e+00, 2e+02]\n",
      "  RHS range        [2e+00, 1e+01]\n",
      "Found heuristic solution: objective 38.0000000\n",
      "Presolve removed 80 rows and 32 columns\n",
      "Presolve time: 0.00s\n",
      "Presolve: All rows and columns removed\n",
      "\n",
      "Explored 0 nodes (0 simplex iterations) in 0.01 seconds\n",
      "Thread count was 1 (of 4 available processors)\n",
      "\n",
      "Solution count 1: 38 \n",
      "\n",
      "Optimal solution found (tolerance 1.00e-04)\n",
      "Best objective 3.800000000000e+01, best bound 3.800000000000e+01, gap 0.0000%\n",
      "defaultdict(<class 'list'>, {0: [0, 0, 0], 1: [1, 1, 1], 2: [2, 2, 2], 3: [3, 3, 3], 5: [5, 5, 5], 10: [10, 10, 10], 14: [14, 14, 14], 6: [6, 6, 6], 7: [7, 7, 7], 12: [12, 12, 12], 4: [4, 4, 4], 8: [8, 8, 8], 9: [9, 9, 9], 11: [11, 11, 11], 18: [18, 18, 18], 26: [26, 26, 26], 15: [15, 15, 15], 25: [25, 25, 25], 13: [13, 13, 13], 17: [17, 17, 17], 16: [16, 16, 16], 20: [20, 20, 20], 19: [19, 19, 19], 21: [21, 21, 21], 28: [28, 28, 28], 24: [24, 24, 24], 22: [22, 22, 22], 23: [23, 23, 23], 29: [29, 29, 29], 27: [27, 27, 27], 30: [30, 30, 30], 31: [31, 31, 31]})\n"
     ]
    }
   ],
   "source": [
    "##resource constraint\n",
    "model=Model('RCPSP')\n",
    "S=model.addVars(F_new,vtype=GRB.INTEGER,ub=UB)\n",
    "size=len(S)\n",
    "L=[]\n",
    "for i,j in p_tab:\n",
    "    model.addConstr(S[j]-S[i]>=d[i])\n",
    "#for i in range(0,size-1):\n",
    "    #L.append(S[i]+d[i])\n",
    "o=S\n",
    "d = dict(zip(F_new, o))\n",
    "from collections import defaultdict\n",
    "\n",
    "#second_new = defaultdict(list)\n",
    "\n",
    "for a,b in d.items():\n",
    "    second_new[b].append(a)      \n",
    "for t in second_new:\n",
    "    v=second_new[t]\n",
    "    for j in range(len(v)):\n",
    "        lhs=LinExpr()\n",
    "    for k in range(m):\n",
    "        lhs+=r[j][k]\n",
    "    model.addConstr(lhs <= R[k] )\n",
    "\n",
    "model.setObjective(S[size-1],GRB.MINIMIZE)\n",
    "model.optimize()\n",
    "model.X\n",
    "print(second_new)\n",
    "###########################################################END HERE#############################################################"
   ]
  },
  {
   "cell_type": "code",
   "execution_count": 5,
   "metadata": {},
   "outputs": [
    {
     "name": "stdout",
     "output_type": "stream",
     "text": [
      "[0, 1, 2, 3, 5, 10, 14, 6, 7, 12, 4, 8, 9, 11, 18, 26, 15, 25, 13, 17, 16, 20, 19, 21, 28, 24, 22, 23, 29, 27, 30, 31]\n"
     ]
    }
   ],
   "source": [
    "#print(list(S)+list(d))\n",
    "t1=[]\n",
    "for t in S:\n",
    "    t1.append(t)\n",
    "print(t1)"
   ]
  },
  {
   "cell_type": "code",
   "execution_count": 396,
   "metadata": {},
   "outputs": [
    {
     "name": "stdout",
     "output_type": "stream",
     "text": [
      "[0, 1, 2, 3, 5, 10, 14, 6, 7, 12, 4, 8, 9, 11, 18, 26, 15, 25, 13, 17, 16, 20, 19, 21, 28, 24, 22, 23, 29, 27, 30, 31]\n"
     ]
    }
   ],
   "source": [
    "print(S.keys())"
   ]
  },
  {
   "cell_type": "code",
   "execution_count": 397,
   "metadata": {},
   "outputs": [
    {
     "data": {
      "text/plain": [
       "list"
      ]
     },
     "execution_count": 397,
     "metadata": {},
     "output_type": "execute_result"
    }
   ],
   "source": [
    "type(d)"
   ]
  },
  {
   "cell_type": "code",
   "execution_count": 398,
   "metadata": {},
   "outputs": [
    {
     "ename": "ValueError",
     "evalue": "If using all scalar values, you must pass an index",
     "output_type": "error",
     "traceback": [
      "\u001b[1;31m---------------------------------------------------------------------------\u001b[0m",
      "\u001b[1;31mValueError\u001b[0m                                Traceback (most recent call last)",
      "\u001b[1;32m<ipython-input-398-4b64451dfabf>\u001b[0m in \u001b[0;36m<module>\u001b[1;34m\u001b[0m\n\u001b[1;32m----> 1\u001b[1;33m \u001b[0mpd\u001b[0m\u001b[1;33m.\u001b[0m\u001b[0mDataFrame\u001b[0m\u001b[1;33m(\u001b[0m\u001b[0mS\u001b[0m\u001b[1;33m)\u001b[0m\u001b[1;33m\u001b[0m\u001b[1;33m\u001b[0m\u001b[0m\n\u001b[0m",
      "\u001b[1;32m~\\Anaconda3\\lib\\site-packages\\pandas\\core\\frame.py\u001b[0m in \u001b[0;36m__init__\u001b[1;34m(self, data, index, columns, dtype, copy)\u001b[0m\n\u001b[0;32m    390\u001b[0m                                  dtype=dtype, copy=copy)\n\u001b[0;32m    391\u001b[0m         \u001b[1;32melif\u001b[0m \u001b[0misinstance\u001b[0m\u001b[1;33m(\u001b[0m\u001b[0mdata\u001b[0m\u001b[1;33m,\u001b[0m \u001b[0mdict\u001b[0m\u001b[1;33m)\u001b[0m\u001b[1;33m:\u001b[0m\u001b[1;33m\u001b[0m\u001b[1;33m\u001b[0m\u001b[0m\n\u001b[1;32m--> 392\u001b[1;33m             \u001b[0mmgr\u001b[0m \u001b[1;33m=\u001b[0m \u001b[0minit_dict\u001b[0m\u001b[1;33m(\u001b[0m\u001b[0mdata\u001b[0m\u001b[1;33m,\u001b[0m \u001b[0mindex\u001b[0m\u001b[1;33m,\u001b[0m \u001b[0mcolumns\u001b[0m\u001b[1;33m,\u001b[0m \u001b[0mdtype\u001b[0m\u001b[1;33m=\u001b[0m\u001b[0mdtype\u001b[0m\u001b[1;33m)\u001b[0m\u001b[1;33m\u001b[0m\u001b[1;33m\u001b[0m\u001b[0m\n\u001b[0m\u001b[0;32m    393\u001b[0m         \u001b[1;32melif\u001b[0m \u001b[0misinstance\u001b[0m\u001b[1;33m(\u001b[0m\u001b[0mdata\u001b[0m\u001b[1;33m,\u001b[0m \u001b[0mma\u001b[0m\u001b[1;33m.\u001b[0m\u001b[0mMaskedArray\u001b[0m\u001b[1;33m)\u001b[0m\u001b[1;33m:\u001b[0m\u001b[1;33m\u001b[0m\u001b[1;33m\u001b[0m\u001b[0m\n\u001b[0;32m    394\u001b[0m             \u001b[1;32mimport\u001b[0m \u001b[0mnumpy\u001b[0m\u001b[1;33m.\u001b[0m\u001b[0mma\u001b[0m\u001b[1;33m.\u001b[0m\u001b[0mmrecords\u001b[0m \u001b[1;32mas\u001b[0m \u001b[0mmrecords\u001b[0m\u001b[1;33m\u001b[0m\u001b[1;33m\u001b[0m\u001b[0m\n",
      "\u001b[1;32m~\\Anaconda3\\lib\\site-packages\\pandas\\core\\internals\\construction.py\u001b[0m in \u001b[0;36minit_dict\u001b[1;34m(data, index, columns, dtype)\u001b[0m\n\u001b[0;32m    210\u001b[0m         \u001b[0marrays\u001b[0m \u001b[1;33m=\u001b[0m \u001b[1;33m[\u001b[0m\u001b[0mdata\u001b[0m\u001b[1;33m[\u001b[0m\u001b[0mk\u001b[0m\u001b[1;33m]\u001b[0m \u001b[1;32mfor\u001b[0m \u001b[0mk\u001b[0m \u001b[1;32min\u001b[0m \u001b[0mkeys\u001b[0m\u001b[1;33m]\u001b[0m\u001b[1;33m\u001b[0m\u001b[1;33m\u001b[0m\u001b[0m\n\u001b[0;32m    211\u001b[0m \u001b[1;33m\u001b[0m\u001b[0m\n\u001b[1;32m--> 212\u001b[1;33m     \u001b[1;32mreturn\u001b[0m \u001b[0marrays_to_mgr\u001b[0m\u001b[1;33m(\u001b[0m\u001b[0marrays\u001b[0m\u001b[1;33m,\u001b[0m \u001b[0mdata_names\u001b[0m\u001b[1;33m,\u001b[0m \u001b[0mindex\u001b[0m\u001b[1;33m,\u001b[0m \u001b[0mcolumns\u001b[0m\u001b[1;33m,\u001b[0m \u001b[0mdtype\u001b[0m\u001b[1;33m=\u001b[0m\u001b[0mdtype\u001b[0m\u001b[1;33m)\u001b[0m\u001b[1;33m\u001b[0m\u001b[1;33m\u001b[0m\u001b[0m\n\u001b[0m\u001b[0;32m    213\u001b[0m \u001b[1;33m\u001b[0m\u001b[0m\n\u001b[0;32m    214\u001b[0m \u001b[1;33m\u001b[0m\u001b[0m\n",
      "\u001b[1;32m~\\Anaconda3\\lib\\site-packages\\pandas\\core\\internals\\construction.py\u001b[0m in \u001b[0;36marrays_to_mgr\u001b[1;34m(arrays, arr_names, index, columns, dtype)\u001b[0m\n\u001b[0;32m     49\u001b[0m     \u001b[1;31m# figure out the index, if necessary\u001b[0m\u001b[1;33m\u001b[0m\u001b[1;33m\u001b[0m\u001b[1;33m\u001b[0m\u001b[0m\n\u001b[0;32m     50\u001b[0m     \u001b[1;32mif\u001b[0m \u001b[0mindex\u001b[0m \u001b[1;32mis\u001b[0m \u001b[1;32mNone\u001b[0m\u001b[1;33m:\u001b[0m\u001b[1;33m\u001b[0m\u001b[1;33m\u001b[0m\u001b[0m\n\u001b[1;32m---> 51\u001b[1;33m         \u001b[0mindex\u001b[0m \u001b[1;33m=\u001b[0m \u001b[0mextract_index\u001b[0m\u001b[1;33m(\u001b[0m\u001b[0marrays\u001b[0m\u001b[1;33m)\u001b[0m\u001b[1;33m\u001b[0m\u001b[1;33m\u001b[0m\u001b[0m\n\u001b[0m\u001b[0;32m     52\u001b[0m     \u001b[1;32melse\u001b[0m\u001b[1;33m:\u001b[0m\u001b[1;33m\u001b[0m\u001b[1;33m\u001b[0m\u001b[0m\n\u001b[0;32m     53\u001b[0m         \u001b[0mindex\u001b[0m \u001b[1;33m=\u001b[0m \u001b[0mensure_index\u001b[0m\u001b[1;33m(\u001b[0m\u001b[0mindex\u001b[0m\u001b[1;33m)\u001b[0m\u001b[1;33m\u001b[0m\u001b[1;33m\u001b[0m\u001b[0m\n",
      "\u001b[1;32m~\\Anaconda3\\lib\\site-packages\\pandas\\core\\internals\\construction.py\u001b[0m in \u001b[0;36mextract_index\u001b[1;34m(data)\u001b[0m\n\u001b[0;32m    306\u001b[0m \u001b[1;33m\u001b[0m\u001b[0m\n\u001b[0;32m    307\u001b[0m         \u001b[1;32mif\u001b[0m \u001b[1;32mnot\u001b[0m \u001b[0mindexes\u001b[0m \u001b[1;32mand\u001b[0m \u001b[1;32mnot\u001b[0m \u001b[0mraw_lengths\u001b[0m\u001b[1;33m:\u001b[0m\u001b[1;33m\u001b[0m\u001b[1;33m\u001b[0m\u001b[0m\n\u001b[1;32m--> 308\u001b[1;33m             raise ValueError('If using all scalar values, you must pass'\n\u001b[0m\u001b[0;32m    309\u001b[0m                              ' an index')\n\u001b[0;32m    310\u001b[0m \u001b[1;33m\u001b[0m\u001b[0m\n",
      "\u001b[1;31mValueError\u001b[0m: If using all scalar values, you must pass an index"
     ]
    }
   ],
   "source": [
    "pd.DataFrame(S)"
   ]
  },
  {
   "cell_type": "code",
   "execution_count": 9,
   "metadata": {},
   "outputs": [],
   "source": [
    "o=model.X"
   ]
  },
  {
   "cell_type": "code",
   "execution_count": 10,
   "metadata": {},
   "outputs": [
    {
     "ename": "IndexError",
     "evalue": "list index out of range",
     "output_type": "error",
     "traceback": [
      "\u001b[1;31m---------------------------------------------------------------------------\u001b[0m",
      "\u001b[1;31mIndexError\u001b[0m                                Traceback (most recent call last)",
      "\u001b[1;32m<ipython-input-10-5ec526df453f>\u001b[0m in \u001b[0;36m<module>\u001b[1;34m\u001b[0m\n\u001b[1;32m----> 1\u001b[1;33m \u001b[0mprint\u001b[0m\u001b[1;33m(\u001b[0m\u001b[0mo\u001b[0m\u001b[1;33m[\u001b[0m\u001b[1;36m1\u001b[0m\u001b[1;33m]\u001b[0m\u001b[1;33m)\u001b[0m\u001b[1;33m\u001b[0m\u001b[1;33m\u001b[0m\u001b[0m\n\u001b[0m",
      "\u001b[1;31mIndexError\u001b[0m: list index out of range"
     ]
    }
   ],
   "source": [
    "print(o[1])"
   ]
  },
  {
   "cell_type": "code",
   "execution_count": 7,
   "metadata": {},
   "outputs": [
    {
     "ename": "IndexError",
     "evalue": "list index out of range",
     "output_type": "error",
     "traceback": [
      "\u001b[1;31m---------------------------------------------------------------------------\u001b[0m",
      "\u001b[1;31mIndexError\u001b[0m                                Traceback (most recent call last)",
      "\u001b[1;32m<ipython-input-7-0d639bacc76c>\u001b[0m in \u001b[0;36m<module>\u001b[1;34m\u001b[0m\n\u001b[0;32m      1\u001b[0m \u001b[1;32mfor\u001b[0m \u001b[0mi\u001b[0m \u001b[1;32min\u001b[0m \u001b[0mrange\u001b[0m\u001b[1;33m(\u001b[0m\u001b[1;36m0\u001b[0m\u001b[1;33m,\u001b[0m\u001b[0mn\u001b[0m\u001b[1;33m)\u001b[0m\u001b[1;33m:\u001b[0m\u001b[1;33m\u001b[0m\u001b[1;33m\u001b[0m\u001b[0m\n\u001b[1;32m----> 2\u001b[1;33m     \u001b[0mo\u001b[0m\u001b[1;33m[\u001b[0m\u001b[0mi\u001b[0m\u001b[1;33m]\u001b[0m\u001b[1;33m=\u001b[0m\u001b[0mint\u001b[0m\u001b[1;33m(\u001b[0m\u001b[0mo\u001b[0m\u001b[1;33m[\u001b[0m\u001b[0mi\u001b[0m\u001b[1;33m]\u001b[0m\u001b[1;33m)\u001b[0m\u001b[1;33m\u001b[0m\u001b[1;33m\u001b[0m\u001b[0m\n\u001b[0m",
      "\u001b[1;31mIndexError\u001b[0m: list index out of range"
     ]
    }
   ],
   "source": [
    "for i in range(0,n):\n",
    "    o[i]=int(o[i])"
   ]
  },
  {
   "cell_type": "code",
   "execution_count": 8,
   "metadata": {},
   "outputs": [
    {
     "name": "stdout",
     "output_type": "stream",
     "text": [
      "[]\n"
     ]
    }
   ],
   "source": [
    "print(o)"
   ]
  },
  {
   "cell_type": "code",
   "execution_count": 403,
   "metadata": {},
   "outputs": [
    {
     "name": "stdout",
     "output_type": "stream",
     "text": [
      "[0, 1, 2, 3, 5, 10, 14, 6, 7, 12, 4, 8, 9, 11, 18, 26, 15, 25, 13, 17, 16, 20, 19, 21, 28, 24, 22, 23, 29, 27, 30, 31]\n"
     ]
    }
   ],
   "source": [
    "print(F_new)"
   ]
  },
  {
   "cell_type": "code",
   "execution_count": 404,
   "metadata": {},
   "outputs": [],
   "source": [
    "for i in range(n):\n",
    "    F1=dict((el,o[i]) for el in F_new)"
   ]
  },
  {
   "cell_type": "code",
   "execution_count": 407,
   "metadata": {},
   "outputs": [],
   "source": [
    "d = dict(zip(F_new, o))"
   ]
  },
  {
   "cell_type": "code",
   "execution_count": 437,
   "metadata": {},
   "outputs": [
    {
     "data": {
      "text/plain": [
       "[0, 1, 2, 3]"
      ]
     },
     "execution_count": 437,
     "metadata": {},
     "output_type": "execute_result"
    }
   ],
   "source": [
    "from collections import defaultdict\n",
    "\n",
    "second_new = defaultdict(list)\n",
    "\n",
    "for a,b in d.items():\n",
    "    second_new[b].append(a)\n",
    "\n",
    "\n",
    "second_new[0]"
   ]
  },
  {
   "cell_type": "code",
   "execution_count": 427,
   "metadata": {},
   "outputs": [
    {
     "data": {
      "text/plain": [
       "dict_items([(0, 0), (1, 0), (2, 0), (3, 0), (5, 8), (10, 8), (14, 8), (6, 4), (7, 4), (12, 4), (4, 6), (8, 6), (9, 6), (11, 13), (18, 13), (26, 13), (15, 13), (25, 17), (13, 15), (17, 10), (16, 18), (20, 23), (19, 17), (21, 24), (28, 16), (24, 24), (22, 31), (23, 33), (29, 36), (27, 25), (30, 28), (31, 38)])"
      ]
     },
     "execution_count": 427,
     "metadata": {},
     "output_type": "execute_result"
    }
   ],
   "source": [
    "d.items()"
   ]
  },
  {
   "cell_type": "code",
   "execution_count": 429,
   "metadata": {},
   "outputs": [
    {
     "data": {
      "text/plain": [
       "dict_items([('E2', {'7', '5'}), ('E3', {'8', '4'}), ('E5', {'7', '5'}), ('E8', {'8', '4'})])"
      ]
     },
     "execution_count": 429,
     "metadata": {},
     "output_type": "execute_result"
    }
   ],
   "source": [
    "A.items()"
   ]
  },
  {
   "cell_type": "code",
   "execution_count": 463,
   "metadata": {},
   "outputs": [
    {
     "name": "stdout",
     "output_type": "stream",
     "text": [
      "defaultdict(<class 'list'>, {0: [0, 1, 2, 3], 8: [5, 10, 14], 4: [6, 7, 12], 6: [4, 8, 9], 13: [11, 18, 26, 15], 17: [25, 19], 15: [13], 10: [17], 18: [16], 23: [20], 24: [21, 24], 16: [28], 31: [22], 33: [23], 36: [29], 25: [27], 28: [30], 38: [31]})\n"
     ]
    }
   ],
   "source": []
  },
  {
   "cell_type": "code",
   "execution_count": 468,
   "metadata": {},
   "outputs": [
    {
     "name": "stdout",
     "output_type": "stream",
     "text": [
      "defaultdict(<class 'list'>, {0: [0, 1, 2, 3], 8: [5, 10, 14], 4: [6, 7, 12], 6: [4, 8, 9], 13: [11, 18, 26, 15], 17: [25, 19], 15: [13], 10: [17], 18: [16], 23: [20], 24: [21, 24], 16: [28], 31: [22], 33: [23], 36: [29], 25: [27], 28: [30], 38: [31]})\n"
     ]
    }
   ],
   "source": [
    "print(second_new)\n",
    "    "
   ]
  },
  {
   "cell_type": "code",
   "execution_count": 469,
   "metadata": {},
   "outputs": [
    {
     "data": {
      "text/plain": [
       "2"
      ]
     },
     "execution_count": 469,
     "metadata": {},
     "output_type": "execute_result"
    }
   ],
   "source": [
    "second_new[0][2]"
   ]
  },
  {
   "cell_type": "code",
   "execution_count": 471,
   "metadata": {},
   "outputs": [
    {
     "ename": "TypeError",
     "evalue": "cannot unpack non-iterable int object",
     "output_type": "error",
     "traceback": [
      "\u001b[1;31m---------------------------------------------------------------------------\u001b[0m",
      "\u001b[1;31mTypeError\u001b[0m                                 Traceback (most recent call last)",
      "\u001b[1;32m<ipython-input-471-c2b25f0ad7c2>\u001b[0m in \u001b[0;36m<module>\u001b[1;34m\u001b[0m\n\u001b[1;32m----> 1\u001b[1;33m \u001b[1;32mfor\u001b[0m \u001b[0mi\u001b[0m\u001b[1;33m,\u001b[0m\u001b[0mj\u001b[0m \u001b[1;32min\u001b[0m \u001b[0mlist\u001b[0m\u001b[1;33m(\u001b[0m\u001b[0msecond_new\u001b[0m\u001b[1;33m)\u001b[0m\u001b[1;33m:\u001b[0m\u001b[1;33m\u001b[0m\u001b[1;33m\u001b[0m\u001b[0m\n\u001b[0m\u001b[0;32m      2\u001b[0m     \u001b[0mprint\u001b[0m\u001b[1;33m(\u001b[0m\u001b[0mi\u001b[0m\u001b[1;33m,\u001b[0m\u001b[0mj\u001b[0m\u001b[1;33m)\u001b[0m\u001b[1;33m\u001b[0m\u001b[1;33m\u001b[0m\u001b[0m\n",
      "\u001b[1;31mTypeError\u001b[0m: cannot unpack non-iterable int object"
     ]
    }
   ],
   "source": []
  },
  {
   "cell_type": "code",
   "execution_count": 486,
   "metadata": {},
   "outputs": [
    {
     "name": "stdout",
     "output_type": "stream",
     "text": [
      "0\n",
      "1\n",
      "2\n",
      "3\n",
      "5\n",
      "10\n",
      "14\n",
      "6\n",
      "7\n",
      "12\n",
      "4\n",
      "8\n",
      "9\n",
      "11\n",
      "18\n",
      "26\n",
      "15\n",
      "25\n",
      "19\n",
      "13\n",
      "17\n",
      "16\n",
      "20\n",
      "21\n",
      "24\n",
      "28\n",
      "22\n",
      "23\n",
      "29\n",
      "27\n",
      "30\n",
      "31\n"
     ]
    }
   ],
   "source": [
    "for t in second_new:\n",
    "    v=second_new[t]\n",
    "    for j in range(len(v)):\n",
    "        print(v[j])"
   ]
  },
  {
   "cell_type": "code",
   "execution_count": 488,
   "metadata": {},
   "outputs": [
    {
     "name": "stdout",
     "output_type": "stream",
     "text": [
      "defaultdict(<class 'list'>, {0: [0, 1, 2, 3], 8: [5, 10, 14], 4: [6, 7, 12], 6: [4, 8, 9], 13: [11, 18, 26, 15], 17: [25, 19], 15: [13], 10: [17], 18: [16], 23: [20], 24: [21, 24], 16: [28], 31: [22], 33: [23], 36: [29], 25: [27], 28: [30], 38: [31]})\n"
     ]
    }
   ],
   "source": [
    "print(second_new)"
   ]
  },
  {
   "cell_type": "code",
   "execution_count": null,
   "metadata": {},
   "outputs": [],
   "source": []
  }
 ],
 "metadata": {
  "kernelspec": {
   "display_name": "Python 3",
   "language": "python",
   "name": "python3"
  },
  "language_info": {
   "codemirror_mode": {
    "name": "ipython",
    "version": 3
   },
   "file_extension": ".py",
   "mimetype": "text/x-python",
   "name": "python",
   "nbconvert_exporter": "python",
   "pygments_lexer": "ipython3",
   "version": "3.7.3"
  }
 },
 "nbformat": 4,
 "nbformat_minor": 4
}
