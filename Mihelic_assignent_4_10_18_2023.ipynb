{
  "cells": [
    {
      "cell_type": "markdown",
      "metadata": {
        "id": "view-in-github",
        "colab_type": "text"
      },
      "source": [
        "<a href=\"https://colab.research.google.com/github/jedgarnaut/ProgrammingAssignment2/blob/master/Mihelic_assignent_4_10_18_2023.ipynb\" target=\"_parent\"><img src=\"https://colab.research.google.com/assets/colab-badge.svg\" alt=\"Open In Colab\"/></a>"
      ]
    },
    {
      "cell_type": "markdown",
      "metadata": {
        "id": "5UzeQ3_wrKDN"
      },
      "source": [
        "# Design an interactive product management system using Python function."
      ]
    },
    {
      "cell_type": "code",
      "execution_count": null,
      "metadata": {
        "colab": {
          "base_uri": "https://localhost:8080/"
        },
        "id": "D_fbgihLrU8z",
        "outputId": "d2cdd06a-e5e5-4d56-84f2-2da975fe7346"
      },
      "outputs": [
        {
          "name": "stdout",
          "output_type": "stream",
          "text": [
            "Mounted at /content/drive/\n"
          ]
        }
      ],
      "source": [
        "## starting using the file in collab, might try to save and do it in jupyter but this current machine is blocking jupyter / python\n",
        "## the file paths in google drive are not really intuitive if you're used to windows, for some reason. Had to search stack overflow to just load the thing.\n",
        "\n",
        "from google.colab import drive\n",
        "drive.mount(\"/content/drive/\", force_remount=True)"
      ]
    },
    {
      "cell_type": "code",
      "execution_count": 1,
      "metadata": {
        "colab": {
          "base_uri": "https://localhost:8080/",
          "height": 35
        },
        "id": "eXATgHhntinG",
        "outputId": "4e5f0546-eaec-44b9-f2c6-91994fc6d055"
      },
      "outputs": [
        {
          "output_type": "execute_result",
          "data": {
            "text/plain": [
              "'/content'"
            ],
            "application/vnd.google.colaboratory.intrinsic+json": {
              "type": "string"
            }
          },
          "metadata": {},
          "execution_count": 1
        }
      ],
      "source": [
        "import os\n",
        "os.getcwd()"
      ]
    },
    {
      "cell_type": "code",
      "execution_count": 2,
      "metadata": {
        "colab": {
          "base_uri": "https://localhost:8080/"
        },
        "id": "TCU06qI6_43e",
        "outputId": "4e159ef2-dd90-4061-c7d2-945302e9d14f"
      },
      "outputs": [
        {
          "output_type": "stream",
          "name": "stdout",
          "text": [
            "stock.gdoc  stock.txt\n"
          ]
        }
      ],
      "source": [
        "!ls \"/content/drive/My Drive/IDS400\" #it was too dang hard to get here."
      ]
    },
    {
      "cell_type": "code",
      "execution_count": 3,
      "metadata": {
        "id": "CqNMNmjKAWRe"
      },
      "outputs": [],
      "source": [
        "os.chdir(\"/content/drive/My Drive/IDS400\")"
      ]
    },
    {
      "cell_type": "code",
      "execution_count": 4,
      "metadata": {
        "colab": {
          "base_uri": "https://localhost:8080/",
          "height": 35
        },
        "id": "jM_zQFY4Ae8w",
        "outputId": "5c414f25-9172-4d97-a093-f5900c966365"
      },
      "outputs": [
        {
          "output_type": "execute_result",
          "data": {
            "text/plain": [
              "'/content/drive/My Drive/IDS400'"
            ],
            "application/vnd.google.colaboratory.intrinsic+json": {
              "type": "string"
            }
          },
          "metadata": {},
          "execution_count": 4
        }
      ],
      "source": [
        "os.getcwd()"
      ]
    },
    {
      "cell_type": "markdown",
      "metadata": {
        "id": "JkdmUpGJrVp0"
      },
      "source": [
        "## 1. Import the stock.txt file and save the content into a dictionary named stock. (15pts) Example: {‘coke’: 10, ‘milk’: 13, ‘juice’: 5}"
      ]
    },
    {
      "cell_type": "code",
      "execution_count": 7,
      "metadata": {
        "colab": {
          "base_uri": "https://localhost:8080/"
        },
        "id": "3EtijvvkrdaU",
        "outputId": "b2f46808-1a4d-4189-f387-9f23dee25a87"
      },
      "outputs": [
        {
          "output_type": "stream",
          "name": "stdout",
          "text": [
            "coke,10\n",
            "\n",
            "juice,5\n",
            "\n",
            "milk,13\n"
          ]
        },
        {
          "output_type": "execute_result",
          "data": {
            "text/plain": [
              "7"
            ]
          },
          "metadata": {},
          "execution_count": 7
        }
      ],
      "source": [
        "fh = open(\"stock.txt\", \"r\")\n",
        "for line in fh:\n",
        "  print(line)\n",
        "\n",
        "len(line) # how is the length 7 here?"
      ]
    },
    {
      "cell_type": "code",
      "execution_count": 29,
      "metadata": {
        "id": "0F9DX29gA9Rk",
        "colab": {
          "base_uri": "https://localhost:8080/"
        },
        "outputId": "a95ee238-e0d3-4f7b-a75e-60cb1192118a"
      },
      "outputs": [
        {
          "output_type": "stream",
          "name": "stdout",
          "text": [
            "['coke,10\\n', 'juice,5\\n', 'milk,13']\n",
            "<class 'str'>\n",
            "<class 'str'>\n",
            "<class 'str'>\n",
            "['coke,10\\n', 'juice,5\\n', 'milk,13']\n"
          ]
        },
        {
          "output_type": "execute_result",
          "data": {
            "text/plain": [
              "list"
            ]
          },
          "metadata": {},
          "execution_count": 29
        }
      ],
      "source": [
        "#opening the file and playing around with it, getting a sense of what's in there, and what it looks like\n",
        "\n",
        "fh = open(\"stock.txt\", \"r\")\n",
        "\n",
        "inp = fh.readlines()\n",
        "\n",
        "\n",
        "for i in inp:\n",
        "  for j in i:\n",
        "    j.replace(\"\\n\", \"\")\n",
        "print(inp)\n",
        "len(inp)\n",
        "\n",
        "for i in inp:\n",
        "  print(type(i))\n",
        "\n",
        "for i in inp:\n",
        "  for j in i:\n",
        "    j.split(\",\")\n",
        "print(inp)\n",
        "\n",
        "type(inp)"
      ]
    },
    {
      "cell_type": "code",
      "source": [
        "fh = open(\"stock.txt\", \"r\")\n",
        "for line in fh:\n",
        "  print(line)"
      ],
      "metadata": {
        "colab": {
          "base_uri": "https://localhost:8080/"
        },
        "id": "JdSX269tEnq0",
        "outputId": "a03e955b-c635-4fe4-e2d5-b3f3b15e2326"
      },
      "execution_count": 32,
      "outputs": [
        {
          "output_type": "stream",
          "name": "stdout",
          "text": [
            "coke,10\n",
            "\n",
            "juice,5\n",
            "\n",
            "milk,13\n"
          ]
        }
      ]
    },
    {
      "cell_type": "code",
      "source": [
        "#trying to remove the new line characters and just make a list\n",
        "\n",
        "new = []\n",
        "\n",
        "for i in inp:\n",
        "    for j in i:\n",
        "      new.append(j.replace(\"\\n\", \"\"))\n",
        "print(new)\n",
        "\n",
        "#nope"
      ],
      "metadata": {
        "colab": {
          "base_uri": "https://localhost:8080/"
        },
        "id": "fiRi1h8hIdMt",
        "outputId": "4accd190-a0f9-4737-f745-ad002a9351d3"
      },
      "execution_count": 44,
      "outputs": [
        {
          "output_type": "stream",
          "name": "stdout",
          "text": [
            "['c', 'o', 'k', 'e', ',', '1', '0', '', 'j', 'u', 'i', 'c', 'e', ',', '5', '', 'm', 'i', 'l', 'k', ',', '1', '3']\n"
          ]
        }
      ]
    },
    {
      "cell_type": "code",
      "source": [
        "new1 = []\n",
        "\n",
        "for i in inp:\n",
        "   new1.append(i.replace(\"\\n\", \"\"))\n",
        "print(new1)\n",
        "#there we go"
      ],
      "metadata": {
        "colab": {
          "base_uri": "https://localhost:8080/"
        },
        "id": "YSbTjOKxKSwk",
        "outputId": "b2bb44af-3f82-4ace-9fef-03aa32f06009"
      },
      "execution_count": 45,
      "outputs": [
        {
          "output_type": "stream",
          "name": "stdout",
          "text": [
            "['coke,10', 'juice,5', 'milk,13']\n"
          ]
        }
      ]
    },
    {
      "cell_type": "code",
      "source": [
        "#now we create the dictionary and put this list in there\n",
        "\n",
        "stock = {}\n",
        "\n",
        "for i in new1:\n",
        "  #split that string\n",
        "  drink, amount = i.split(\",\")\n",
        "  #gotta make it so you can do math on the values?\n",
        "  amount = float(amount)\n",
        "  #assign it as dictionary key value pairs\n",
        "  stock[drink]=amount\n",
        "print(stock)\n",
        ""
      ],
      "metadata": {
        "colab": {
          "base_uri": "https://localhost:8080/"
        },
        "id": "Vi9hF7H5KoNj",
        "outputId": "418f37f0-c1ed-45a5-b5a8-1a11a8956807"
      },
      "execution_count": 48,
      "outputs": [
        {
          "output_type": "stream",
          "name": "stdout",
          "text": [
            "{'coke': 10.0, 'juice': 5.0, 'milk': 13.0}\n"
          ]
        }
      ]
    },
    {
      "cell_type": "markdown",
      "metadata": {
        "id": "L6rZFmzXrd8n"
      },
      "source": [
        "## 2. Write a function to generate overall stats for all products (15pts) Function name: gen_stats Parameters: stock dictionary Return: None Description: Print all basic stats of all products, such as the total amount for all products, the average, the maximum and the minimum."
      ]
    },
    {
      "cell_type": "code",
      "execution_count": 70,
      "metadata": {
        "id": "dsBkwRwkrhjD"
      },
      "outputs": [],
      "source": [
        "def gen_stats(dictionary):\n",
        "\n",
        "  import statistics\n",
        "  print(\"The sum of the values is \" + str(sum(dictionary.values())))\n",
        "  print(\"The average of all the values is \" + str((statistics.mean(dictionary.values()))))\n",
        "  print(\"The largest value is \" + str(max(dictionary.values())))\n",
        "  print(\"The smallest value is \" + str(min(dictionary.values())))\n",
        "\n",
        "\n",
        "#had to import statistics, but I thought there was an average function in \"math\""
      ]
    },
    {
      "cell_type": "code",
      "source": [
        "gen_stats(stock)"
      ],
      "metadata": {
        "colab": {
          "base_uri": "https://localhost:8080/"
        },
        "id": "9RC1AwzdNv77",
        "outputId": "d418cf52-0888-4a03-8372-c02c5c0b8f2b"
      },
      "execution_count": 71,
      "outputs": [
        {
          "output_type": "stream",
          "name": "stdout",
          "text": [
            "The sum of the values is 28.0\n",
            "The average of all the values is 9.333333333333334\n",
            "The largest value is 13.0\n",
            "The smallest value is 5.0\n"
          ]
        }
      ]
    },
    {
      "cell_type": "markdown",
      "metadata": {
        "id": "alwfhYMsriK4"
      },
      "source": [
        "## 3. Write a function to calculate the amount of a given product (30pts) Function name: check_stock Parameters: Stock dictionary, product name Return: The number in stock for that product. Description: Retrieve the corresponding number in stock for a given product. The given product is obtained from the user (use input function). Your program should be able to handle the invalid case where the input is not in stock. Sample Run 1  Enter a product name: coke The number is: 10  Sample Run 2  Enter a product name: orange We don’t have this product"
      ]
    },
    {
      "cell_type": "code",
      "execution_count": 82,
      "metadata": {
        "id": "5HpW9wF4rlbj",
        "colab": {
          "base_uri": "https://localhost:8080/"
        },
        "outputId": "3a0aa3df-8fd5-49ca-d89d-c45748acb4ab"
      },
      "outputs": [
        {
          "output_type": "stream",
          "name": "stdout",
          "text": [
            "What are you looking for? coke\n",
            "The number is :10.0\n"
          ]
        }
      ],
      "source": [
        "#defining the entry, making it lower case, making the function and then making it run.\n",
        "#Then making text in front of the number\n",
        "#werirdly, the hardest part so far was getting the file loaded, and then making teh dictionary\n",
        "\n",
        "enter = str.lower(input(\"What are you looking for? \"))\n",
        "def check_stock(enter, dictionary=stock):\n",
        "  if enter in stock:\n",
        "    amount = stock.get(enter)\n",
        "    print(\"The number is :\" +str(amount))\n",
        "  else:\n",
        "    print(\"We don't have this product\")\n",
        "check_stock(enter)"
      ]
    },
    {
      "cell_type": "markdown",
      "metadata": {
        "id": "ZY6R6BhDroPh"
      },
      "source": [
        "## 4. Write a function to update the amount for a given product (40pts) Function name: update_stock Parameters: The stock dictionary, a given product, the number Return: The updated stock dictionary Description: Update the number in stock for a given product. The given product and the number are obtained from the user (use input function). Your program should be able to handle the invalid case where the input is not in stock. Sample Run 1  Enter a product name and a number: coke, 11 The updated dictionary is: {‘coke’: 11, ‘milk’: 13, ‘juice’: 5, …} Sample Run 2  Enter a product name: orange, 11 We don’t have this product"
      ]
    },
    {
      "cell_type": "code",
      "execution_count": 89,
      "metadata": {
        "id": "XKDjo8elrrrS",
        "colab": {
          "base_uri": "https://localhost:8080/"
        },
        "outputId": "3328deef-a0de-4081-ad61-0b6e1e181236"
      },
      "outputs": [
        {
          "output_type": "stream",
          "name": "stdout",
          "text": [
            "What are you looking for? orange\n",
            "How many are there:11\n",
            "We don't have this product\n",
            "{'coke': 18.0, 'juice': 5.0, 'milk': 13.0}\n"
          ]
        }
      ],
      "source": [
        "#Building on the bones of the last problem\n",
        "#basically here instead of looking up the value, we're changing it?\n",
        "\n",
        "\n",
        "enter = str.lower(input(\"What are you looking for? \"))\n",
        "new_value = float(input(\"How many are there:\"))\n",
        "def update_stock(enter, dictionary=stock, value=new_value):\n",
        "  if enter in stock:\n",
        "    stock.update({enter : new_value})\n",
        "    print(\"The number is :\" +str(new_value))\n",
        "  else:\n",
        "    print(\"We don't have this product\")\n",
        "update_stock(enter)\n",
        "print(stock)\n",
        "\n",
        "#yeah, this part was somehow way easier than loading the file.\n",
        "#next step would be to add a validation step, and then after that to ask for a new key to add,"
      ]
    }
  ],
  "metadata": {
    "colab": {
      "provenance": [],
      "mount_file_id": "15TY7ma6eRLLbhtwZlFdwtABvoSGS2i_G",
      "authorship_tag": "ABX9TyNnaD0fmeubGIPRa16Iyfmo",
      "include_colab_link": true
    },
    "kernelspec": {
      "display_name": "Python 3",
      "name": "python3"
    },
    "language_info": {
      "name": "python"
    }
  },
  "nbformat": 4,
  "nbformat_minor": 0
}