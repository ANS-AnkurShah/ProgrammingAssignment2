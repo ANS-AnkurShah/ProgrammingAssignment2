{
  "nbformat": 4,
  "nbformat_minor": 0,
  "metadata": {
    "colab": {
      "name": "reopeningcinemas_EDA.ipynb",
      "provenance": [],
      "collapsed_sections": [],
      "authorship_tag": "ABX9TyNfdsZ+cVuym5HvNNOX7VIC",
      "include_colab_link": true
    },
    "kernelspec": {
      "name": "python3",
      "display_name": "Python 3"
    }
  },
  "cells": [
    {
      "cell_type": "markdown",
      "metadata": {
        "id": "view-in-github",
        "colab_type": "text"
      },
      "source": [
        "<a href=\"https://colab.research.google.com/github/Anusha-T8/ProgrammingAssignment2/blob/master/reopeningcinemas_EDA.ipynb\" target=\"_parent\"><img src=\"https://colab.research.google.com/assets/colab-badge.svg\" alt=\"Open In Colab\"/></a>"
      ]
    },
    {
      "cell_type": "code",
      "metadata": {
        "id": "BJNM2mGyn4g7"
      },
      "source": [
        "import pandas as pd\n",
        "import numpy as np\n",
        "import matplotlib.pyplot as plt\n",
        "import seaborn as sns\n",
        "%matplotlib inline \n",
        "from scipy import stats"
      ],
      "execution_count": null,
      "outputs": []
    },
    {
      "cell_type": "code",
      "metadata": {
        "id": "t4uwTDvFoOtO"
      },
      "source": [
        "path=\"/content/audience_cinema_cleaned_dataset\"\n",
        "df=pd.read_csv(path, index_col=0)"
      ],
      "execution_count": null,
      "outputs": []
    },
    {
      "cell_type": "code",
      "metadata": {
        "id": "T5DRqFLfoiou",
        "colab": {
          "base_uri": "https://localhost:8080/",
          "height": 400
        },
        "outputId": "db3d9779-8d34-4859-962a-6dec8fa0f3bc"
      },
      "source": [
        "df.head()"
      ],
      "execution_count": null,
      "outputs": [
        {
          "output_type": "execute_result",
          "data": {
            "text/html": [
              "<div>\n",
              "<style scoped>\n",
              "    .dataframe tbody tr th:only-of-type {\n",
              "        vertical-align: middle;\n",
              "    }\n",
              "\n",
              "    .dataframe tbody tr th {\n",
              "        vertical-align: top;\n",
              "    }\n",
              "\n",
              "    .dataframe thead th {\n",
              "        text-align: right;\n",
              "    }\n",
              "</style>\n",
              "<table border=\"1\" class=\"dataframe\">\n",
              "  <thead>\n",
              "    <tr style=\"text-align: right;\">\n",
              "      <th></th>\n",
              "      <th>Name</th>\n",
              "      <th>Age</th>\n",
              "      <th>Sex</th>\n",
              "      <th>Occupation</th>\n",
              "      <th>Eager</th>\n",
              "      <th>Location</th>\n",
              "      <th>Implement_safety</th>\n",
              "      <th>alternate_seating</th>\n",
              "      <th>Price_hike</th>\n",
              "      <th>Visit_time</th>\n",
              "      <th>Food_option</th>\n",
              "      <th>Risk_factor</th>\n",
              "      <th>Factors_impacting</th>\n",
              "      <th>Trustworthy</th>\n",
              "      <th>Risk_factor-binned</th>\n",
              "      <th>Cinemas</th>\n",
              "      <th>OTT</th>\n",
              "    </tr>\n",
              "  </thead>\n",
              "  <tbody>\n",
              "    <tr>\n",
              "      <th>0</th>\n",
              "      <td>Karthik R</td>\n",
              "      <td>18-28</td>\n",
              "      <td>Male</td>\n",
              "      <td>Student</td>\n",
              "      <td>No</td>\n",
              "      <td>Urban</td>\n",
              "      <td>Strongly agree</td>\n",
              "      <td>Agree</td>\n",
              "      <td>No</td>\n",
              "      <td>Night time (the last two shows when there is l...</td>\n",
              "      <td>Highly prefer carrying own food</td>\n",
              "      <td>4</td>\n",
              "      <td>To hang out with friends/families</td>\n",
              "      <td>Theatre</td>\n",
              "      <td>High</td>\n",
              "      <td>1</td>\n",
              "      <td>0</td>\n",
              "    </tr>\n",
              "    <tr>\n",
              "      <th>1</th>\n",
              "      <td>Aishwarya E D'Souza</td>\n",
              "      <td>18-28</td>\n",
              "      <td>Female</td>\n",
              "      <td>Student</td>\n",
              "      <td>No</td>\n",
              "      <td>Urban</td>\n",
              "      <td>Disagree</td>\n",
              "      <td>Disagree</td>\n",
              "      <td>No</td>\n",
              "      <td>Not visiting cinemas</td>\n",
              "      <td>Not visiting Cinemas</td>\n",
              "      <td>4</td>\n",
              "      <td>Precautions taken by cinemas, Cinemas in conta...</td>\n",
              "      <td>PVR</td>\n",
              "      <td>High</td>\n",
              "      <td>0</td>\n",
              "      <td>1</td>\n",
              "    </tr>\n",
              "    <tr>\n",
              "      <th>2</th>\n",
              "      <td>Chandan</td>\n",
              "      <td>18-28</td>\n",
              "      <td>Male</td>\n",
              "      <td>Student</td>\n",
              "      <td>No</td>\n",
              "      <td>Urban</td>\n",
              "      <td>Neutral, depends on the number of people visit...</td>\n",
              "      <td>Disagree</td>\n",
              "      <td>No</td>\n",
              "      <td>Night time (the last two shows when there is l...</td>\n",
              "      <td>Not visiting Cinemas</td>\n",
              "      <td>4</td>\n",
              "      <td>Not interested in visiting cinemas</td>\n",
              "      <td>None</td>\n",
              "      <td>High</td>\n",
              "      <td>0</td>\n",
              "      <td>1</td>\n",
              "    </tr>\n",
              "    <tr>\n",
              "      <th>3</th>\n",
              "      <td>Sunaina</td>\n",
              "      <td>18-28</td>\n",
              "      <td>Female</td>\n",
              "      <td>Professionals/Government/Private employees</td>\n",
              "      <td>No</td>\n",
              "      <td>Urban</td>\n",
              "      <td>Strongly agree</td>\n",
              "      <td>Agree</td>\n",
              "      <td>No</td>\n",
              "      <td>Not visiting cinemas</td>\n",
              "      <td>Not visiting Cinemas</td>\n",
              "      <td>4</td>\n",
              "      <td>Not interested in visiting cinemas</td>\n",
              "      <td>PVR</td>\n",
              "      <td>High</td>\n",
              "      <td>0</td>\n",
              "      <td>1</td>\n",
              "    </tr>\n",
              "    <tr>\n",
              "      <th>4</th>\n",
              "      <td>Sunaina</td>\n",
              "      <td>18-28</td>\n",
              "      <td>Female</td>\n",
              "      <td>Professionals/Government/Private employees</td>\n",
              "      <td>No</td>\n",
              "      <td>Urban</td>\n",
              "      <td>Strongly agree</td>\n",
              "      <td>Agree</td>\n",
              "      <td>No</td>\n",
              "      <td>Not visiting cinemas</td>\n",
              "      <td>Not visiting Cinemas</td>\n",
              "      <td>4</td>\n",
              "      <td>Not interested in visiting cinemas</td>\n",
              "      <td>PVR</td>\n",
              "      <td>High</td>\n",
              "      <td>0</td>\n",
              "      <td>1</td>\n",
              "    </tr>\n",
              "  </tbody>\n",
              "</table>\n",
              "</div>"
            ],
            "text/plain": [
              "                   Name    Age     Sex  ... Risk_factor-binned Cinemas OTT\n",
              "0             Karthik R  18-28    Male  ...               High       1   0\n",
              "1  Aishwarya E D'Souza   18-28  Female  ...               High       0   1\n",
              "2               Chandan  18-28    Male  ...               High       0   1\n",
              "3               Sunaina  18-28  Female  ...               High       0   1\n",
              "4               Sunaina  18-28  Female  ...               High       0   1\n",
              "\n",
              "[5 rows x 17 columns]"
            ]
          },
          "metadata": {
            "tags": []
          },
          "execution_count": 3
        }
      ]
    },
    {
      "cell_type": "code",
      "metadata": {
        "id": "MjjC3OaCpBhP",
        "colab": {
          "base_uri": "https://localhost:8080/"
        },
        "outputId": "6a688ed3-013e-4d3a-826c-c7ef30c2c9ab"
      },
      "source": [
        "df.dtypes"
      ],
      "execution_count": null,
      "outputs": [
        {
          "output_type": "execute_result",
          "data": {
            "text/plain": [
              "Name                  object\n",
              "Age                   object\n",
              "Sex                   object\n",
              "Occupation            object\n",
              "Eager                 object\n",
              "Location              object\n",
              "Implement_safety      object\n",
              "alternate_seating     object\n",
              "Price_hike            object\n",
              "Visit_time            object\n",
              "Food_option           object\n",
              "Risk_factor            int64\n",
              "Factors_impacting     object\n",
              "Trustworthy           object\n",
              "Risk_factor-binned    object\n",
              "Cinemas                int64\n",
              "OTT                    int64\n",
              "dtype: object"
            ]
          },
          "metadata": {
            "tags": []
          },
          "execution_count": 4
        }
      ]
    },
    {
      "cell_type": "code",
      "metadata": {
        "id": "CoS2DbAbok1M",
        "colab": {
          "base_uri": "https://localhost:8080/",
          "height": 284
        },
        "outputId": "cb4d3c94-ca1a-43d3-ba83-3bb70752a649"
      },
      "source": [
        "df.describe()"
      ],
      "execution_count": null,
      "outputs": [
        {
          "output_type": "execute_result",
          "data": {
            "text/html": [
              "<div>\n",
              "<style scoped>\n",
              "    .dataframe tbody tr th:only-of-type {\n",
              "        vertical-align: middle;\n",
              "    }\n",
              "\n",
              "    .dataframe tbody tr th {\n",
              "        vertical-align: top;\n",
              "    }\n",
              "\n",
              "    .dataframe thead th {\n",
              "        text-align: right;\n",
              "    }\n",
              "</style>\n",
              "<table border=\"1\" class=\"dataframe\">\n",
              "  <thead>\n",
              "    <tr style=\"text-align: right;\">\n",
              "      <th></th>\n",
              "      <th>Risk_factor</th>\n",
              "      <th>Cinemas</th>\n",
              "      <th>OTT</th>\n",
              "    </tr>\n",
              "  </thead>\n",
              "  <tbody>\n",
              "    <tr>\n",
              "      <th>count</th>\n",
              "      <td>140.000000</td>\n",
              "      <td>140.000000</td>\n",
              "      <td>140.000000</td>\n",
              "    </tr>\n",
              "    <tr>\n",
              "      <th>mean</th>\n",
              "      <td>3.678571</td>\n",
              "      <td>0.514286</td>\n",
              "      <td>0.485714</td>\n",
              "    </tr>\n",
              "    <tr>\n",
              "      <th>std</th>\n",
              "      <td>1.282241</td>\n",
              "      <td>0.501590</td>\n",
              "      <td>0.501590</td>\n",
              "    </tr>\n",
              "    <tr>\n",
              "      <th>min</th>\n",
              "      <td>0.000000</td>\n",
              "      <td>0.000000</td>\n",
              "      <td>0.000000</td>\n",
              "    </tr>\n",
              "    <tr>\n",
              "      <th>25%</th>\n",
              "      <td>3.000000</td>\n",
              "      <td>0.000000</td>\n",
              "      <td>0.000000</td>\n",
              "    </tr>\n",
              "    <tr>\n",
              "      <th>50%</th>\n",
              "      <td>4.000000</td>\n",
              "      <td>1.000000</td>\n",
              "      <td>0.000000</td>\n",
              "    </tr>\n",
              "    <tr>\n",
              "      <th>75%</th>\n",
              "      <td>5.000000</td>\n",
              "      <td>1.000000</td>\n",
              "      <td>1.000000</td>\n",
              "    </tr>\n",
              "    <tr>\n",
              "      <th>max</th>\n",
              "      <td>5.000000</td>\n",
              "      <td>1.000000</td>\n",
              "      <td>1.000000</td>\n",
              "    </tr>\n",
              "  </tbody>\n",
              "</table>\n",
              "</div>"
            ],
            "text/plain": [
              "       Risk_factor     Cinemas         OTT\n",
              "count   140.000000  140.000000  140.000000\n",
              "mean      3.678571    0.514286    0.485714\n",
              "std       1.282241    0.501590    0.501590\n",
              "min       0.000000    0.000000    0.000000\n",
              "25%       3.000000    0.000000    0.000000\n",
              "50%       4.000000    1.000000    0.000000\n",
              "75%       5.000000    1.000000    1.000000\n",
              "max       5.000000    1.000000    1.000000"
            ]
          },
          "metadata": {
            "tags": []
          },
          "execution_count": 5
        }
      ]
    },
    {
      "cell_type": "code",
      "metadata": {
        "id": "ghXIFG3Wy_ok",
        "colab": {
          "base_uri": "https://localhost:8080/",
          "height": 236
        },
        "outputId": "4db462f2-d286-422d-b139-235e1074c8ba"
      },
      "source": [
        "df.describe(include=object)"
      ],
      "execution_count": null,
      "outputs": [
        {
          "output_type": "execute_result",
          "data": {
            "text/html": [
              "<div>\n",
              "<style scoped>\n",
              "    .dataframe tbody tr th:only-of-type {\n",
              "        vertical-align: middle;\n",
              "    }\n",
              "\n",
              "    .dataframe tbody tr th {\n",
              "        vertical-align: top;\n",
              "    }\n",
              "\n",
              "    .dataframe thead th {\n",
              "        text-align: right;\n",
              "    }\n",
              "</style>\n",
              "<table border=\"1\" class=\"dataframe\">\n",
              "  <thead>\n",
              "    <tr style=\"text-align: right;\">\n",
              "      <th></th>\n",
              "      <th>Name</th>\n",
              "      <th>Age</th>\n",
              "      <th>Sex</th>\n",
              "      <th>Occupation</th>\n",
              "      <th>Eager</th>\n",
              "      <th>Location</th>\n",
              "      <th>Implement_safety</th>\n",
              "      <th>alternate_seating</th>\n",
              "      <th>Price_hike</th>\n",
              "      <th>Visit_time</th>\n",
              "      <th>Food_option</th>\n",
              "      <th>Factors_impacting</th>\n",
              "      <th>Trustworthy</th>\n",
              "      <th>Risk_factor-binned</th>\n",
              "    </tr>\n",
              "  </thead>\n",
              "  <tbody>\n",
              "    <tr>\n",
              "      <th>count</th>\n",
              "      <td>140</td>\n",
              "      <td>140</td>\n",
              "      <td>140</td>\n",
              "      <td>140</td>\n",
              "      <td>140</td>\n",
              "      <td>140</td>\n",
              "      <td>140</td>\n",
              "      <td>140</td>\n",
              "      <td>140</td>\n",
              "      <td>140</td>\n",
              "      <td>140</td>\n",
              "      <td>140</td>\n",
              "      <td>140</td>\n",
              "      <td>140</td>\n",
              "    </tr>\n",
              "    <tr>\n",
              "      <th>unique</th>\n",
              "      <td>132</td>\n",
              "      <td>4</td>\n",
              "      <td>2</td>\n",
              "      <td>6</td>\n",
              "      <td>2</td>\n",
              "      <td>2</td>\n",
              "      <td>3</td>\n",
              "      <td>2</td>\n",
              "      <td>2</td>\n",
              "      <td>4</td>\n",
              "      <td>5</td>\n",
              "      <td>40</td>\n",
              "      <td>8</td>\n",
              "      <td>3</td>\n",
              "    </tr>\n",
              "    <tr>\n",
              "      <th>top</th>\n",
              "      <td>Deepthi D H</td>\n",
              "      <td>18-28</td>\n",
              "      <td>Male</td>\n",
              "      <td>Professionals/Government/Private employees</td>\n",
              "      <td>No</td>\n",
              "      <td>Urban</td>\n",
              "      <td>Strongly agree</td>\n",
              "      <td>Agree</td>\n",
              "      <td>No</td>\n",
              "      <td>Anytime as per your conveience</td>\n",
              "      <td>Highly prefer carrying own food</td>\n",
              "      <td>Coronavirus cases in the city</td>\n",
              "      <td>PVR</td>\n",
              "      <td>High</td>\n",
              "    </tr>\n",
              "    <tr>\n",
              "      <th>freq</th>\n",
              "      <td>2</td>\n",
              "      <td>87</td>\n",
              "      <td>76</td>\n",
              "      <td>57</td>\n",
              "      <td>94</td>\n",
              "      <td>128</td>\n",
              "      <td>108</td>\n",
              "      <td>87</td>\n",
              "      <td>105</td>\n",
              "      <td>62</td>\n",
              "      <td>61</td>\n",
              "      <td>24</td>\n",
              "      <td>71</td>\n",
              "      <td>87</td>\n",
              "    </tr>\n",
              "  </tbody>\n",
              "</table>\n",
              "</div>"
            ],
            "text/plain": [
              "               Name    Age  ... Trustworthy Risk_factor-binned\n",
              "count           140    140  ...         140                140\n",
              "unique          132      4  ...           8                  3\n",
              "top     Deepthi D H  18-28  ...         PVR               High\n",
              "freq              2     87  ...          71                 87\n",
              "\n",
              "[4 rows x 14 columns]"
            ]
          },
          "metadata": {
            "tags": []
          },
          "execution_count": 6
        }
      ]
    },
    {
      "cell_type": "code",
      "metadata": {
        "id": "Qub76O0lzHoy",
        "colab": {
          "base_uri": "https://localhost:8080/",
          "height": 791
        },
        "outputId": "c4f1e579-e381-457d-e20c-2abed5410398"
      },
      "source": [
        "categorical_data=df.select_dtypes(include=['object'])\n",
        "categorical_data\n"
      ],
      "execution_count": null,
      "outputs": [
        {
          "output_type": "execute_result",
          "data": {
            "text/html": [
              "<div>\n",
              "<style scoped>\n",
              "    .dataframe tbody tr th:only-of-type {\n",
              "        vertical-align: middle;\n",
              "    }\n",
              "\n",
              "    .dataframe tbody tr th {\n",
              "        vertical-align: top;\n",
              "    }\n",
              "\n",
              "    .dataframe thead th {\n",
              "        text-align: right;\n",
              "    }\n",
              "</style>\n",
              "<table border=\"1\" class=\"dataframe\">\n",
              "  <thead>\n",
              "    <tr style=\"text-align: right;\">\n",
              "      <th></th>\n",
              "      <th>Name</th>\n",
              "      <th>Age</th>\n",
              "      <th>Sex</th>\n",
              "      <th>Occupation</th>\n",
              "      <th>Eager</th>\n",
              "      <th>Location</th>\n",
              "      <th>Implement_safety</th>\n",
              "      <th>alternate_seating</th>\n",
              "      <th>Price_hike</th>\n",
              "      <th>Visit_time</th>\n",
              "      <th>Food_option</th>\n",
              "      <th>Factors_impacting</th>\n",
              "      <th>Trustworthy</th>\n",
              "      <th>Risk_factor-binned</th>\n",
              "    </tr>\n",
              "  </thead>\n",
              "  <tbody>\n",
              "    <tr>\n",
              "      <th>0</th>\n",
              "      <td>Karthik R</td>\n",
              "      <td>18-28</td>\n",
              "      <td>Male</td>\n",
              "      <td>Student</td>\n",
              "      <td>No</td>\n",
              "      <td>Urban</td>\n",
              "      <td>Strongly agree</td>\n",
              "      <td>Agree</td>\n",
              "      <td>No</td>\n",
              "      <td>Night time (the last two shows when there is l...</td>\n",
              "      <td>Highly prefer carrying own food</td>\n",
              "      <td>To hang out with friends/families</td>\n",
              "      <td>Theatre</td>\n",
              "      <td>High</td>\n",
              "    </tr>\n",
              "    <tr>\n",
              "      <th>1</th>\n",
              "      <td>Aishwarya E D'Souza</td>\n",
              "      <td>18-28</td>\n",
              "      <td>Female</td>\n",
              "      <td>Student</td>\n",
              "      <td>No</td>\n",
              "      <td>Urban</td>\n",
              "      <td>Disagree</td>\n",
              "      <td>Disagree</td>\n",
              "      <td>No</td>\n",
              "      <td>Not visiting cinemas</td>\n",
              "      <td>Not visiting Cinemas</td>\n",
              "      <td>Precautions taken by cinemas, Cinemas in conta...</td>\n",
              "      <td>PVR</td>\n",
              "      <td>High</td>\n",
              "    </tr>\n",
              "    <tr>\n",
              "      <th>2</th>\n",
              "      <td>Chandan</td>\n",
              "      <td>18-28</td>\n",
              "      <td>Male</td>\n",
              "      <td>Student</td>\n",
              "      <td>No</td>\n",
              "      <td>Urban</td>\n",
              "      <td>Neutral, depends on the number of people visit...</td>\n",
              "      <td>Disagree</td>\n",
              "      <td>No</td>\n",
              "      <td>Night time (the last two shows when there is l...</td>\n",
              "      <td>Not visiting Cinemas</td>\n",
              "      <td>Not interested in visiting cinemas</td>\n",
              "      <td>None</td>\n",
              "      <td>High</td>\n",
              "    </tr>\n",
              "    <tr>\n",
              "      <th>3</th>\n",
              "      <td>Sunaina</td>\n",
              "      <td>18-28</td>\n",
              "      <td>Female</td>\n",
              "      <td>Professionals/Government/Private employees</td>\n",
              "      <td>No</td>\n",
              "      <td>Urban</td>\n",
              "      <td>Strongly agree</td>\n",
              "      <td>Agree</td>\n",
              "      <td>No</td>\n",
              "      <td>Not visiting cinemas</td>\n",
              "      <td>Not visiting Cinemas</td>\n",
              "      <td>Not interested in visiting cinemas</td>\n",
              "      <td>PVR</td>\n",
              "      <td>High</td>\n",
              "    </tr>\n",
              "    <tr>\n",
              "      <th>4</th>\n",
              "      <td>Sunaina</td>\n",
              "      <td>18-28</td>\n",
              "      <td>Female</td>\n",
              "      <td>Professionals/Government/Private employees</td>\n",
              "      <td>No</td>\n",
              "      <td>Urban</td>\n",
              "      <td>Strongly agree</td>\n",
              "      <td>Agree</td>\n",
              "      <td>No</td>\n",
              "      <td>Not visiting cinemas</td>\n",
              "      <td>Not visiting Cinemas</td>\n",
              "      <td>Not interested in visiting cinemas</td>\n",
              "      <td>PVR</td>\n",
              "      <td>High</td>\n",
              "    </tr>\n",
              "    <tr>\n",
              "      <th>...</th>\n",
              "      <td>...</td>\n",
              "      <td>...</td>\n",
              "      <td>...</td>\n",
              "      <td>...</td>\n",
              "      <td>...</td>\n",
              "      <td>...</td>\n",
              "      <td>...</td>\n",
              "      <td>...</td>\n",
              "      <td>...</td>\n",
              "      <td>...</td>\n",
              "      <td>...</td>\n",
              "      <td>...</td>\n",
              "      <td>...</td>\n",
              "      <td>...</td>\n",
              "    </tr>\n",
              "    <tr>\n",
              "      <th>135</th>\n",
              "      <td>Sagar</td>\n",
              "      <td>38-48</td>\n",
              "      <td>Male</td>\n",
              "      <td>Professionals/Government/Private employees</td>\n",
              "      <td>No</td>\n",
              "      <td>Urban</td>\n",
              "      <td>Strongly agree</td>\n",
              "      <td>Agree</td>\n",
              "      <td>Yes</td>\n",
              "      <td>Anytime as per your conveience</td>\n",
              "      <td>Highly prefer carrying own food</td>\n",
              "      <td>Precautions taken by cinemas, Not interested i...</td>\n",
              "      <td>None</td>\n",
              "      <td>High</td>\n",
              "    </tr>\n",
              "    <tr>\n",
              "      <th>136</th>\n",
              "      <td>Aishwarya</td>\n",
              "      <td>28-38</td>\n",
              "      <td>Female</td>\n",
              "      <td>Professionals/Government/Private employees</td>\n",
              "      <td>No</td>\n",
              "      <td>Urban</td>\n",
              "      <td>Strongly agree</td>\n",
              "      <td>Agree</td>\n",
              "      <td>No</td>\n",
              "      <td>Anytime as per your conveience</td>\n",
              "      <td>Highly prefer carrying own food</td>\n",
              "      <td>Precautions taken by cinemas, Coronavirus case...</td>\n",
              "      <td>None</td>\n",
              "      <td>High</td>\n",
              "    </tr>\n",
              "    <tr>\n",
              "      <th>137</th>\n",
              "      <td>Shashi</td>\n",
              "      <td>38-48</td>\n",
              "      <td>Male</td>\n",
              "      <td>Professionals/Government/Private employees</td>\n",
              "      <td>No</td>\n",
              "      <td>Urban</td>\n",
              "      <td>Strongly agree</td>\n",
              "      <td>Agree</td>\n",
              "      <td>No</td>\n",
              "      <td>Anytime as per your conveience</td>\n",
              "      <td>No food should be entertained at cinemas</td>\n",
              "      <td>Coronavirus cases in the city</td>\n",
              "      <td>None</td>\n",
              "      <td>High</td>\n",
              "    </tr>\n",
              "    <tr>\n",
              "      <th>138</th>\n",
              "      <td>Kishan</td>\n",
              "      <td>28-38</td>\n",
              "      <td>Male</td>\n",
              "      <td>Business</td>\n",
              "      <td>No</td>\n",
              "      <td>Urban</td>\n",
              "      <td>Neutral, depends on the number of people visit...</td>\n",
              "      <td>Disagree</td>\n",
              "      <td>No</td>\n",
              "      <td>Anytime as per your conveience</td>\n",
              "      <td>Highly prefer carrying own food</td>\n",
              "      <td>Precautions taken by cinemas</td>\n",
              "      <td>PVR</td>\n",
              "      <td>High</td>\n",
              "    </tr>\n",
              "    <tr>\n",
              "      <th>139</th>\n",
              "      <td>Lakshmi</td>\n",
              "      <td>28-38</td>\n",
              "      <td>Female</td>\n",
              "      <td>Home maker</td>\n",
              "      <td>No</td>\n",
              "      <td>Urban</td>\n",
              "      <td>Strongly agree</td>\n",
              "      <td>Agree</td>\n",
              "      <td>No</td>\n",
              "      <td>Anytime as per your conveience</td>\n",
              "      <td>Highly prefer carrying own food</td>\n",
              "      <td>Coronavirus cases in the city</td>\n",
              "      <td>PVR</td>\n",
              "      <td>High</td>\n",
              "    </tr>\n",
              "  </tbody>\n",
              "</table>\n",
              "<p>140 rows × 14 columns</p>\n",
              "</div>"
            ],
            "text/plain": [
              "                     Name    Age  ... Trustworthy Risk_factor-binned\n",
              "0               Karthik R  18-28  ...     Theatre               High\n",
              "1    Aishwarya E D'Souza   18-28  ...         PVR               High\n",
              "2                 Chandan  18-28  ...        None               High\n",
              "3                 Sunaina  18-28  ...         PVR               High\n",
              "4                 Sunaina  18-28  ...         PVR               High\n",
              "..                    ...    ...  ...         ...                ...\n",
              "135                 Sagar  38-48  ...        None               High\n",
              "136             Aishwarya  28-38  ...        None               High\n",
              "137                Shashi  38-48  ...        None               High\n",
              "138                Kishan  28-38  ...         PVR               High\n",
              "139              Lakshmi   28-38  ...         PVR               High\n",
              "\n",
              "[140 rows x 14 columns]"
            ]
          },
          "metadata": {
            "tags": []
          },
          "execution_count": 7
        }
      ]
    },
    {
      "cell_type": "code",
      "metadata": {
        "id": "5zPKebuM1iTy",
        "colab": {
          "base_uri": "https://localhost:8080/"
        },
        "outputId": "2844799b-f4da-46a8-e023-e739527a420d"
      },
      "source": [
        "for columns in categorical_data.columns.values.tolist():\n",
        "    print(columns)\n",
        "    print(categorical_data[columns].value_counts())\n",
        "    print('')"
      ],
      "execution_count": null,
      "outputs": [
        {
          "output_type": "stream",
          "text": [
            "Name\n",
            "Deepthi D H                 2\n",
            "Akshata S Mantorshettar     2\n",
            "Sunaina                     2\n",
            "Lakshmi                     2\n",
            "Paramesh                    2\n",
            "                           ..\n",
            "Roopa J                     1\n",
            "Shashi                      1\n",
            "Jayashree                   1\n",
            "Kavana                      1\n",
            "Sharanya                    1\n",
            "Name: Name, Length: 132, dtype: int64\n",
            "\n",
            "Age\n",
            "18-28       87\n",
            "38-48       24\n",
            "28-38       22\n",
            "Above 48     7\n",
            "Name: Age, dtype: int64\n",
            "\n",
            "Sex\n",
            "Male      76\n",
            "Female    64\n",
            "Name: Sex, dtype: int64\n",
            "\n",
            "Occupation\n",
            "Professionals/Government/Private employees    57\n",
            "Student                                       46\n",
            "Business                                      22\n",
            "Home maker                                     7\n",
            "Unemployed                                     5\n",
            "Retired                                        3\n",
            "Name: Occupation, dtype: int64\n",
            "\n",
            "Eager\n",
            "No     94\n",
            "Yes    46\n",
            "Name: Eager, dtype: int64\n",
            "\n",
            "Location\n",
            "Urban    128\n",
            "Rural     12\n",
            "Name: Location, dtype: int64\n",
            "\n",
            "Implement_safety\n",
            "Strongly agree                                                   108\n",
            "Neutral, depends on the number of people visiting the cinemas     28\n",
            "Disagree                                                           4\n",
            "Name: Implement_safety, dtype: int64\n",
            "\n",
            "alternate_seating\n",
            "Agree       87\n",
            "Disagree    53\n",
            "Name: alternate_seating, dtype: int64\n",
            "\n",
            "Price_hike\n",
            "No     105\n",
            "Yes     35\n",
            "Name: Price_hike, dtype: int64\n",
            "\n",
            "Visit_time\n",
            "Anytime as per your conveience                                                  62\n",
            "Not visiting cinemas                                                            29\n",
            "Day time (any of the three shows when there is high public activity outside)    25\n",
            "Night time (the last two shows when there is low public activity outside)       24\n",
            "Name: Visit_time, dtype: int64\n",
            "\n",
            "Food_option\n",
            "Highly prefer carrying own food                                 61\n",
            "Need food availability at cinemas and options to carry food.    32\n",
            "Not visiting Cinemas                                            22\n",
            "No food should be entertained at cinemas                        16\n",
            "Do not prefer carrying own food                                  9\n",
            "Name: Food_option, dtype: int64\n",
            "\n",
            "Factors_impacting\n",
            "Coronavirus cases in the city                                                                                                                                                                                                                        24\n",
            "Not interested in visiting cinemas                                                                                                                                                                                                                   19\n",
            "Cinemas in containment or safe zone                                                                                                                                                                                                                  16\n",
            "Precautions taken by cinemas                                                                                                                                                                                                                         11\n",
            "To hang out with friends/families                                                                                                                                                                                                                     8\n",
            "Interest in the specific film running at the theatre                                                                                                                                                                                                  6\n",
            "Precautions taken by cinemas, Interest in the specific film running at the theatre, To hang out with friends/families                                                                                                                                 4\n",
            "Precautions taken by cinemas, Coronavirus cases in the city                                                                                                                                                                                           4\n",
            "Precautions taken by cinemas, Cinemas in containment or safe zone, To hang out with friends/families                                                                                                                                                  4\n",
            "Precautions taken by cinemas, Cinemas in containment or safe zone, Coronavirus cases in the city                                                                                                                                                      4\n",
            "Precautions taken by cinemas, Cinemas in containment or safe zone, Interest in the specific film running at the theatre                                                                                                                               3\n",
            "Precautions taken by cinemas, Cinemas in containment or safe zone, Interest in the specific film running at the theatre, To hang out with friends/families, To get out of home                                                                        2\n",
            "Precautions taken by cinemas, Cinemas in containment or safe zone, Coronavirus cases in the city, Interest in the specific film running at the theatre                                                                                                2\n",
            "Cinemas in containment or safe zone, Interest in the specific film running at the theatre                                                                                                                                                             2\n",
            "Coronavirus cases in the city, Not interested in visiting cinemas                                                                                                                                                                                     2\n",
            "To hang out with friends/families, To get out of home                                                                                                                                                                                                 2\n",
            "Precautions taken by cinemas, Coronavirus cases in the city, To get out of home                                                                                                                                                                       2\n",
            "Interest in the specific film running at the theatre, To hang out with friends/families                                                                                                                                                               2\n",
            "Cinemas in containment or safe zone, Coronavirus cases in the city, Not interested in visiting cinemas                                                                                                                                                2\n",
            "Precautions taken by cinemas, Not interested in visiting cinemas                                                                                                                                                                                      1\n",
            "Cinemas in containment or safe zone, Coronavirus cases in the city, Interest in the specific film running at the theatre                                                                                                                              1\n",
            "Precautions taken by cinemas, Coronavirus cases in the city, Interest in the specific film running at the theatre                                                                                                                                     1\n",
            "Precautions taken by cinemas, Interest in the specific film running at the theatre, To hang out with friends/families, To get out of home                                                                                                             1\n",
            "Precautions taken by cinemas, Cinemas in containment or safe zone                                                                                                                                                                                     1\n",
            "To get out of home                                                                                                                                                                                                                                    1\n",
            "Cinemas in containment or safe zone, Not interested in visiting cinemas                                                                                                                                                                               1\n",
            "Precautions taken by cinemas, Interest in the specific film running at the theatre                                                                                                                                                                    1\n",
            "Precautions taken by cinemas, Cinemas in containment or safe zone, Coronavirus cases in the city, Interest in the specific film running at the theatre, To hang out with friends/families, To get out of home, Not interested in visiting cinemas     1\n",
            "Cinemas in containment or safe zone, Coronavirus cases in the city                                                                                                                                                                                    1\n",
            "Interest in the specific film running at the theatre, To hang out with friends/families, To get out of home                                                                                                                                           1\n",
            "Precautions taken by cinemas, Cinemas in containment or safe zone, Coronavirus cases in the city, To hang out with friends/families, To get out of home                                                                                               1\n",
            "Precautions taken by cinemas, To hang out with friends/families                                                                                                                                                                                       1\n",
            "Precautions taken by cinemas, Coronavirus cases in the city, To hang out with friends/families                                                                                                                                                        1\n",
            "Cinemas in containment or safe zone, Coronavirus cases in the city, Interest in the specific film running at the theatre, To hang out with friends/families, To get out of home                                                                       1\n",
            "Precautions taken by cinemas, Cinemas in containment or safe zone, Coronavirus cases in the city, To get out of home, Not interested in visiting cinemas                                                                                              1\n",
            "Precautions taken by cinemas, Cinemas in containment or safe zone, Coronavirus cases in the city, Interest in the specific film running at the theatre, To hang out with friends/families, To get out of home                                         1\n",
            "Cinemas in containment or safe zone, Interest in the specific film running at the theatre, To get out of home                                                                                                                                         1\n",
            "Precautions taken by cinemas, Cinemas in containment or safe zone, Coronavirus cases in the city, Interest in the specific film running at the theatre, To hang out with friends/families                                                             1\n",
            "Precautions taken by cinemas, Coronavirus cases in the city, Interest in the specific film running at the theatre, To hang out with friends/families, To get out of home                                                                              1\n",
            "Coronavirus cases in the city, Interest in the specific film running at the theatre                                                                                                                                                                   1\n",
            "Name: Factors_impacting, dtype: int64\n",
            "\n",
            "Trustworthy\n",
            "PVR            71\n",
            "None           24\n",
            "Inox           19\n",
            "Theatre        13\n",
            "Cinepolis       5\n",
            "SPI Cinemas     4\n",
            "Carnival        3\n",
            "SRS Cinemas     1\n",
            "Name: Trustworthy, dtype: int64\n",
            "\n",
            "Risk_factor-binned\n",
            "High      87\n",
            "Medium    42\n",
            "Low       11\n",
            "Name: Risk_factor-binned, dtype: int64\n",
            "\n"
          ],
          "name": "stdout"
        }
      ]
    },
    {
      "cell_type": "code",
      "metadata": {
        "id": "EP54vgs_2oFR",
        "colab": {
          "base_uri": "https://localhost:8080/",
          "height": 136
        },
        "outputId": "0b45c0bb-fafd-4307-86fc-8f62c7b6422a"
      },
      "source": [
        "pd.crosstab(index=df['Eager'],columns='count',dropna=True)"
      ],
      "execution_count": null,
      "outputs": [
        {
          "output_type": "execute_result",
          "data": {
            "text/html": [
              "<div>\n",
              "<style scoped>\n",
              "    .dataframe tbody tr th:only-of-type {\n",
              "        vertical-align: middle;\n",
              "    }\n",
              "\n",
              "    .dataframe tbody tr th {\n",
              "        vertical-align: top;\n",
              "    }\n",
              "\n",
              "    .dataframe thead th {\n",
              "        text-align: right;\n",
              "    }\n",
              "</style>\n",
              "<table border=\"1\" class=\"dataframe\">\n",
              "  <thead>\n",
              "    <tr style=\"text-align: right;\">\n",
              "      <th>col_0</th>\n",
              "      <th>count</th>\n",
              "    </tr>\n",
              "    <tr>\n",
              "      <th>Eager</th>\n",
              "      <th></th>\n",
              "    </tr>\n",
              "  </thead>\n",
              "  <tbody>\n",
              "    <tr>\n",
              "      <th>No</th>\n",
              "      <td>94</td>\n",
              "    </tr>\n",
              "    <tr>\n",
              "      <th>Yes</th>\n",
              "      <td>46</td>\n",
              "    </tr>\n",
              "  </tbody>\n",
              "</table>\n",
              "</div>"
            ],
            "text/plain": [
              "col_0  count\n",
              "Eager       \n",
              "No        94\n",
              "Yes       46"
            ]
          },
          "metadata": {
            "tags": []
          },
          "execution_count": 9
        }
      ]
    },
    {
      "cell_type": "markdown",
      "metadata": {
        "id": "UrC3NOzC9zg8"
      },
      "source": [
        "from the table above we can observe that most of the people are not eager to rush into cinemas"
      ]
    },
    {
      "cell_type": "code",
      "metadata": {
        "id": "EMsyBN_86FIT",
        "colab": {
          "base_uri": "https://localhost:8080/",
          "height": 136
        },
        "outputId": "7169567b-0c60-4503-e907-9c980b369696"
      },
      "source": [
        "pd.crosstab(index=df['OTT'],columns=df['Eager'],dropna=True)"
      ],
      "execution_count": null,
      "outputs": [
        {
          "output_type": "execute_result",
          "data": {
            "text/html": [
              "<div>\n",
              "<style scoped>\n",
              "    .dataframe tbody tr th:only-of-type {\n",
              "        vertical-align: middle;\n",
              "    }\n",
              "\n",
              "    .dataframe tbody tr th {\n",
              "        vertical-align: top;\n",
              "    }\n",
              "\n",
              "    .dataframe thead th {\n",
              "        text-align: right;\n",
              "    }\n",
              "</style>\n",
              "<table border=\"1\" class=\"dataframe\">\n",
              "  <thead>\n",
              "    <tr style=\"text-align: right;\">\n",
              "      <th>Eager</th>\n",
              "      <th>No</th>\n",
              "      <th>Yes</th>\n",
              "    </tr>\n",
              "    <tr>\n",
              "      <th>OTT</th>\n",
              "      <th></th>\n",
              "      <th></th>\n",
              "    </tr>\n",
              "  </thead>\n",
              "  <tbody>\n",
              "    <tr>\n",
              "      <th>0</th>\n",
              "      <td>32</td>\n",
              "      <td>40</td>\n",
              "    </tr>\n",
              "    <tr>\n",
              "      <th>1</th>\n",
              "      <td>62</td>\n",
              "      <td>6</td>\n",
              "    </tr>\n",
              "  </tbody>\n",
              "</table>\n",
              "</div>"
            ],
            "text/plain": [
              "Eager  No  Yes\n",
              "OTT           \n",
              "0      32   40\n",
              "1      62    6"
            ]
          },
          "metadata": {
            "tags": []
          },
          "execution_count": 10
        }
      ]
    },
    {
      "cell_type": "markdown",
      "metadata": {
        "id": "GjndTE2I-CHL"
      },
      "source": [
        "people who are not eager to visit cinemas have opted more of OTT option to watch new movies.\n",
        "Therefore the people count who are not eager to visit cinemas and prefer OTT platforms is of 62."
      ]
    },
    {
      "cell_type": "code",
      "metadata": {
        "id": "0Jx9ctcp6TVZ",
        "colab": {
          "base_uri": "https://localhost:8080/",
          "height": 136
        },
        "outputId": "04d9fedb-54b0-49e1-bb73-69edb1fa3fdd"
      },
      "source": [
        "pd.crosstab(index=df['Cinemas'],columns=df['Eager'],dropna=True)"
      ],
      "execution_count": null,
      "outputs": [
        {
          "output_type": "execute_result",
          "data": {
            "text/html": [
              "<div>\n",
              "<style scoped>\n",
              "    .dataframe tbody tr th:only-of-type {\n",
              "        vertical-align: middle;\n",
              "    }\n",
              "\n",
              "    .dataframe tbody tr th {\n",
              "        vertical-align: top;\n",
              "    }\n",
              "\n",
              "    .dataframe thead th {\n",
              "        text-align: right;\n",
              "    }\n",
              "</style>\n",
              "<table border=\"1\" class=\"dataframe\">\n",
              "  <thead>\n",
              "    <tr style=\"text-align: right;\">\n",
              "      <th>Eager</th>\n",
              "      <th>No</th>\n",
              "      <th>Yes</th>\n",
              "    </tr>\n",
              "    <tr>\n",
              "      <th>Cinemas</th>\n",
              "      <th></th>\n",
              "      <th></th>\n",
              "    </tr>\n",
              "  </thead>\n",
              "  <tbody>\n",
              "    <tr>\n",
              "      <th>0</th>\n",
              "      <td>62</td>\n",
              "      <td>6</td>\n",
              "    </tr>\n",
              "    <tr>\n",
              "      <th>1</th>\n",
              "      <td>32</td>\n",
              "      <td>40</td>\n",
              "    </tr>\n",
              "  </tbody>\n",
              "</table>\n",
              "</div>"
            ],
            "text/plain": [
              "Eager    No  Yes\n",
              "Cinemas         \n",
              "0        62    6\n",
              "1        32   40"
            ]
          },
          "metadata": {
            "tags": []
          },
          "execution_count": 11
        }
      ]
    },
    {
      "cell_type": "markdown",
      "metadata": {
        "id": "Q7hp9JSf-pSk"
      },
      "source": [
        "Similarly, people who are eager to visit cinemas prefer to watch new movies in cinema but not OTT are in 40 numbers."
      ]
    },
    {
      "cell_type": "code",
      "metadata": {
        "id": "7CiTV0hz6w_m",
        "colab": {
          "base_uri": "https://localhost:8080/",
          "height": 166
        },
        "outputId": "9ef69b38-aa66-4707-89d2-6c4936df806c"
      },
      "source": [
        "pd.crosstab(index=df['Risk_factor-binned'],columns=df['Eager'],dropna=True)"
      ],
      "execution_count": null,
      "outputs": [
        {
          "output_type": "execute_result",
          "data": {
            "text/html": [
              "<div>\n",
              "<style scoped>\n",
              "    .dataframe tbody tr th:only-of-type {\n",
              "        vertical-align: middle;\n",
              "    }\n",
              "\n",
              "    .dataframe tbody tr th {\n",
              "        vertical-align: top;\n",
              "    }\n",
              "\n",
              "    .dataframe thead th {\n",
              "        text-align: right;\n",
              "    }\n",
              "</style>\n",
              "<table border=\"1\" class=\"dataframe\">\n",
              "  <thead>\n",
              "    <tr style=\"text-align: right;\">\n",
              "      <th>Eager</th>\n",
              "      <th>No</th>\n",
              "      <th>Yes</th>\n",
              "    </tr>\n",
              "    <tr>\n",
              "      <th>Risk_factor-binned</th>\n",
              "      <th></th>\n",
              "      <th></th>\n",
              "    </tr>\n",
              "  </thead>\n",
              "  <tbody>\n",
              "    <tr>\n",
              "      <th>High</th>\n",
              "      <td>73</td>\n",
              "      <td>14</td>\n",
              "    </tr>\n",
              "    <tr>\n",
              "      <th>Low</th>\n",
              "      <td>5</td>\n",
              "      <td>6</td>\n",
              "    </tr>\n",
              "    <tr>\n",
              "      <th>Medium</th>\n",
              "      <td>16</td>\n",
              "      <td>26</td>\n",
              "    </tr>\n",
              "  </tbody>\n",
              "</table>\n",
              "</div>"
            ],
            "text/plain": [
              "Eager               No  Yes\n",
              "Risk_factor-binned         \n",
              "High                73   14\n",
              "Low                  5    6\n",
              "Medium              16   26"
            ]
          },
          "metadata": {
            "tags": []
          },
          "execution_count": 12
        }
      ]
    },
    {
      "cell_type": "code",
      "metadata": {
        "id": "bJfiC2Nh787G",
        "colab": {
          "base_uri": "https://localhost:8080/",
          "height": 166
        },
        "outputId": "7bd6d0d0-a7d4-4fb4-cfce-a9b0d2cd87e6"
      },
      "source": [
        "pd.crosstab(index=df['Risk_factor-binned'],columns=df['Eager'],normalize=True, dropna=True)"
      ],
      "execution_count": null,
      "outputs": [
        {
          "output_type": "execute_result",
          "data": {
            "text/html": [
              "<div>\n",
              "<style scoped>\n",
              "    .dataframe tbody tr th:only-of-type {\n",
              "        vertical-align: middle;\n",
              "    }\n",
              "\n",
              "    .dataframe tbody tr th {\n",
              "        vertical-align: top;\n",
              "    }\n",
              "\n",
              "    .dataframe thead th {\n",
              "        text-align: right;\n",
              "    }\n",
              "</style>\n",
              "<table border=\"1\" class=\"dataframe\">\n",
              "  <thead>\n",
              "    <tr style=\"text-align: right;\">\n",
              "      <th>Eager</th>\n",
              "      <th>No</th>\n",
              "      <th>Yes</th>\n",
              "    </tr>\n",
              "    <tr>\n",
              "      <th>Risk_factor-binned</th>\n",
              "      <th></th>\n",
              "      <th></th>\n",
              "    </tr>\n",
              "  </thead>\n",
              "  <tbody>\n",
              "    <tr>\n",
              "      <th>High</th>\n",
              "      <td>0.521429</td>\n",
              "      <td>0.100000</td>\n",
              "    </tr>\n",
              "    <tr>\n",
              "      <th>Low</th>\n",
              "      <td>0.035714</td>\n",
              "      <td>0.042857</td>\n",
              "    </tr>\n",
              "    <tr>\n",
              "      <th>Medium</th>\n",
              "      <td>0.114286</td>\n",
              "      <td>0.185714</td>\n",
              "    </tr>\n",
              "  </tbody>\n",
              "</table>\n",
              "</div>"
            ],
            "text/plain": [
              "Eager                     No       Yes\n",
              "Risk_factor-binned                    \n",
              "High                0.521429  0.100000\n",
              "Low                 0.035714  0.042857\n",
              "Medium              0.114286  0.185714"
            ]
          },
          "metadata": {
            "tags": []
          },
          "execution_count": 13
        }
      ]
    },
    {
      "cell_type": "markdown",
      "metadata": {
        "id": "Td5pXY6c88X_"
      },
      "source": [
        "from joint probability we can observe that people who are not eager to rush into cinemas with high risk rate is 0.521429 i.e. 52.14%\n",
        "\n",
        "And also people who are eager to rush into cinemas with high risk rate is about 10%."
      ]
    },
    {
      "cell_type": "code",
      "metadata": {
        "id": "__LgRIIB8rYj",
        "colab": {
          "base_uri": "https://localhost:8080/",
          "height": 136
        },
        "outputId": "8703b280-d838-4215-8d5f-8548e55681df"
      },
      "source": [
        "pd.crosstab(index=df['Cinemas'],columns=df['Eager'],normalize=True, dropna=True)"
      ],
      "execution_count": null,
      "outputs": [
        {
          "output_type": "execute_result",
          "data": {
            "text/html": [
              "<div>\n",
              "<style scoped>\n",
              "    .dataframe tbody tr th:only-of-type {\n",
              "        vertical-align: middle;\n",
              "    }\n",
              "\n",
              "    .dataframe tbody tr th {\n",
              "        vertical-align: top;\n",
              "    }\n",
              "\n",
              "    .dataframe thead th {\n",
              "        text-align: right;\n",
              "    }\n",
              "</style>\n",
              "<table border=\"1\" class=\"dataframe\">\n",
              "  <thead>\n",
              "    <tr style=\"text-align: right;\">\n",
              "      <th>Eager</th>\n",
              "      <th>No</th>\n",
              "      <th>Yes</th>\n",
              "    </tr>\n",
              "    <tr>\n",
              "      <th>Cinemas</th>\n",
              "      <th></th>\n",
              "      <th></th>\n",
              "    </tr>\n",
              "  </thead>\n",
              "  <tbody>\n",
              "    <tr>\n",
              "      <th>0</th>\n",
              "      <td>0.442857</td>\n",
              "      <td>0.042857</td>\n",
              "    </tr>\n",
              "    <tr>\n",
              "      <th>1</th>\n",
              "      <td>0.228571</td>\n",
              "      <td>0.285714</td>\n",
              "    </tr>\n",
              "  </tbody>\n",
              "</table>\n",
              "</div>"
            ],
            "text/plain": [
              "Eager          No       Yes\n",
              "Cinemas                    \n",
              "0        0.442857  0.042857\n",
              "1        0.228571  0.285714"
            ]
          },
          "metadata": {
            "tags": []
          },
          "execution_count": 14
        }
      ]
    },
    {
      "cell_type": "markdown",
      "metadata": {
        "id": "29_Skqmw_ToK"
      },
      "source": [
        "From joint probability, people who are willing to visit cinemas and watch new movies in cinemas itself is of 28.5% \n",
        "And people who want it in OTT platform and not eager to visit cinema is of 44.28%."
      ]
    },
    {
      "cell_type": "markdown",
      "metadata": {
        "id": "7lm9eou9B6S5"
      },
      "source": [
        "**CONDITIONAL PROBABILITY**"
      ]
    },
    {
      "cell_type": "markdown",
      "metadata": {
        "id": "eBGSSa2hCCri"
      },
      "source": [
        "Scenario: Given, people are not willing to visit cinemas. What will be the probability of them watching movies on OTT platform."
      ]
    },
    {
      "cell_type": "code",
      "metadata": {
        "id": "1cD6guBk_AcD",
        "colab": {
          "base_uri": "https://localhost:8080/",
          "height": 136
        },
        "outputId": "b966c094-8f34-4bda-9338-e33fd87f099f"
      },
      "source": [
        " pd.crosstab(index=df['OTT'],columns=df['Eager'],normalize='columns',\n",
        "              margins=True,dropna=True)"
      ],
      "execution_count": null,
      "outputs": [
        {
          "output_type": "execute_result",
          "data": {
            "text/html": [
              "<div>\n",
              "<style scoped>\n",
              "    .dataframe tbody tr th:only-of-type {\n",
              "        vertical-align: middle;\n",
              "    }\n",
              "\n",
              "    .dataframe tbody tr th {\n",
              "        vertical-align: top;\n",
              "    }\n",
              "\n",
              "    .dataframe thead th {\n",
              "        text-align: right;\n",
              "    }\n",
              "</style>\n",
              "<table border=\"1\" class=\"dataframe\">\n",
              "  <thead>\n",
              "    <tr style=\"text-align: right;\">\n",
              "      <th>Eager</th>\n",
              "      <th>No</th>\n",
              "      <th>Yes</th>\n",
              "      <th>All</th>\n",
              "    </tr>\n",
              "    <tr>\n",
              "      <th>OTT</th>\n",
              "      <th></th>\n",
              "      <th></th>\n",
              "      <th></th>\n",
              "    </tr>\n",
              "  </thead>\n",
              "  <tbody>\n",
              "    <tr>\n",
              "      <th>0</th>\n",
              "      <td>0.340426</td>\n",
              "      <td>0.869565</td>\n",
              "      <td>0.514286</td>\n",
              "    </tr>\n",
              "    <tr>\n",
              "      <th>1</th>\n",
              "      <td>0.659574</td>\n",
              "      <td>0.130435</td>\n",
              "      <td>0.485714</td>\n",
              "    </tr>\n",
              "  </tbody>\n",
              "</table>\n",
              "</div>"
            ],
            "text/plain": [
              "Eager        No       Yes       All\n",
              "OTT                                \n",
              "0      0.340426  0.869565  0.514286\n",
              "1      0.659574  0.130435  0.485714"
            ]
          },
          "metadata": {
            "tags": []
          },
          "execution_count": 15
        }
      ]
    },
    {
      "cell_type": "markdown",
      "metadata": {
        "id": "fQ-m5DasDNi5"
      },
      "source": [
        "Therefore from the output, it is 65.9% of the people will watch movies on OTT platform when they are not willing to visit cinemas \n",
        "\n",
        "And on the contrast, we can analyse from the output that 86.9% of the people will watch new movies in cinemas when they are willing or eager to visit cinemas.\n"
      ]
    },
    {
      "cell_type": "markdown",
      "metadata": {
        "id": "DNNoI2zeEHJE"
      },
      "source": [
        "Scenario: Given the risk rate to be high to visit cinemas, what is the probability of their eagerness to visit cinemas?"
      ]
    },
    {
      "cell_type": "code",
      "metadata": {
        "id": "I9c7LqRQB11B",
        "colab": {
          "base_uri": "https://localhost:8080/",
          "height": 195
        },
        "outputId": "503e5b58-718e-48ca-f6a9-f5017749f197"
      },
      "source": [
        "pd.crosstab(index=df['Risk_factor-binned'],columns=df['Eager'],normalize='index',\n",
        "              margins=True,dropna=True)"
      ],
      "execution_count": null,
      "outputs": [
        {
          "output_type": "execute_result",
          "data": {
            "text/html": [
              "<div>\n",
              "<style scoped>\n",
              "    .dataframe tbody tr th:only-of-type {\n",
              "        vertical-align: middle;\n",
              "    }\n",
              "\n",
              "    .dataframe tbody tr th {\n",
              "        vertical-align: top;\n",
              "    }\n",
              "\n",
              "    .dataframe thead th {\n",
              "        text-align: right;\n",
              "    }\n",
              "</style>\n",
              "<table border=\"1\" class=\"dataframe\">\n",
              "  <thead>\n",
              "    <tr style=\"text-align: right;\">\n",
              "      <th>Eager</th>\n",
              "      <th>No</th>\n",
              "      <th>Yes</th>\n",
              "    </tr>\n",
              "    <tr>\n",
              "      <th>Risk_factor-binned</th>\n",
              "      <th></th>\n",
              "      <th></th>\n",
              "    </tr>\n",
              "  </thead>\n",
              "  <tbody>\n",
              "    <tr>\n",
              "      <th>High</th>\n",
              "      <td>0.839080</td>\n",
              "      <td>0.160920</td>\n",
              "    </tr>\n",
              "    <tr>\n",
              "      <th>Low</th>\n",
              "      <td>0.454545</td>\n",
              "      <td>0.545455</td>\n",
              "    </tr>\n",
              "    <tr>\n",
              "      <th>Medium</th>\n",
              "      <td>0.380952</td>\n",
              "      <td>0.619048</td>\n",
              "    </tr>\n",
              "    <tr>\n",
              "      <th>All</th>\n",
              "      <td>0.671429</td>\n",
              "      <td>0.328571</td>\n",
              "    </tr>\n",
              "  </tbody>\n",
              "</table>\n",
              "</div>"
            ],
            "text/plain": [
              "Eager                     No       Yes\n",
              "Risk_factor-binned                    \n",
              "High                0.839080  0.160920\n",
              "Low                 0.454545  0.545455\n",
              "Medium              0.380952  0.619048\n",
              "All                 0.671429  0.328571"
            ]
          },
          "metadata": {
            "tags": []
          },
          "execution_count": 16
        }
      ]
    },
    {
      "cell_type": "markdown",
      "metadata": {
        "id": "9U2LK0SmEWJ2"
      },
      "source": [
        "From the conditional marginal probabilty it is seen that given the high risk rate to visit cinemas, 83.9% of the people are not willing to visit cinemas. "
      ]
    },
    {
      "cell_type": "markdown",
      "metadata": {
        "id": "WeuM8uWkI85i"
      },
      "source": [
        "**CORRELATION**"
      ]
    },
    {
      "cell_type": "code",
      "metadata": {
        "id": "QWtWoaghEAwf",
        "colab": {
          "base_uri": "https://localhost:8080/",
          "height": 136
        },
        "outputId": "858f2162-8817-46d2-a012-47e6f4ea87e1"
      },
      "source": [
        "df.corr()"
      ],
      "execution_count": null,
      "outputs": [
        {
          "output_type": "execute_result",
          "data": {
            "text/html": [
              "<div>\n",
              "<style scoped>\n",
              "    .dataframe tbody tr th:only-of-type {\n",
              "        vertical-align: middle;\n",
              "    }\n",
              "\n",
              "    .dataframe tbody tr th {\n",
              "        vertical-align: top;\n",
              "    }\n",
              "\n",
              "    .dataframe thead th {\n",
              "        text-align: right;\n",
              "    }\n",
              "</style>\n",
              "<table border=\"1\" class=\"dataframe\">\n",
              "  <thead>\n",
              "    <tr style=\"text-align: right;\">\n",
              "      <th></th>\n",
              "      <th>Risk_factor</th>\n",
              "      <th>Cinemas</th>\n",
              "      <th>OTT</th>\n",
              "    </tr>\n",
              "  </thead>\n",
              "  <tbody>\n",
              "    <tr>\n",
              "      <th>Risk_factor</th>\n",
              "      <td>1.00000</td>\n",
              "      <td>-0.32279</td>\n",
              "      <td>0.32279</td>\n",
              "    </tr>\n",
              "    <tr>\n",
              "      <th>Cinemas</th>\n",
              "      <td>-0.32279</td>\n",
              "      <td>1.00000</td>\n",
              "      <td>-1.00000</td>\n",
              "    </tr>\n",
              "    <tr>\n",
              "      <th>OTT</th>\n",
              "      <td>0.32279</td>\n",
              "      <td>-1.00000</td>\n",
              "      <td>1.00000</td>\n",
              "    </tr>\n",
              "  </tbody>\n",
              "</table>\n",
              "</div>"
            ],
            "text/plain": [
              "             Risk_factor  Cinemas      OTT\n",
              "Risk_factor      1.00000 -0.32279  0.32279\n",
              "Cinemas         -0.32279  1.00000 -1.00000\n",
              "OTT              0.32279 -1.00000  1.00000"
            ]
          },
          "metadata": {
            "tags": []
          },
          "execution_count": 17
        }
      ]
    },
    {
      "cell_type": "markdown",
      "metadata": {
        "id": "HtihxCHvKWWr"
      },
      "source": [
        "**DATA VISUALIZATION**"
      ]
    },
    {
      "cell_type": "code",
      "metadata": {
        "id": "Xd79cjq0KVEH"
      },
      "source": [
        "import seaborn as sns"
      ],
      "execution_count": null,
      "outputs": []
    },
    {
      "cell_type": "code",
      "metadata": {
        "id": "uvQTm3ZtJyUb",
        "colab": {
          "base_uri": "https://localhost:8080/",
          "height": 296
        },
        "outputId": "32e72dd5-5f58-46cb-c2ac-160734d377f8"
      },
      "source": [
        "plt.hist(df['Age'])\n",
        "plt.xlabel('AGE GROUP')\n",
        "plt.ylabel('COUNT')\n"
      ],
      "execution_count": null,
      "outputs": [
        {
          "output_type": "execute_result",
          "data": {
            "text/plain": [
              "Text(0, 0.5, 'COUNT')"
            ]
          },
          "metadata": {
            "tags": []
          },
          "execution_count": 40
        },
        {
          "output_type": "display_data",
          "data": {
            "image/png": "[encoded data removed]",
            "text/plain": [
              "<Figure size 432x288 with 1 Axes>"
            ]
          },
          "metadata": {
            "tags": [],
            "needs_background": "light"
          }
        }
      ]
    },
    {
      "cell_type": "code",
      "metadata": {
        "id": "bDWkGWp2ONc6",
        "colab": {
          "base_uri": "https://localhost:8080/",
          "height": 454
        },
        "outputId": "6f351961-9890-464f-fd76-057d50dbbc67"
      },
      "source": [
        "sns.factorplot(y='Age',hue='Eager',kind='count', data=df)"
      ],
      "execution_count": null,
      "outputs": [
        {
          "output_type": "stream",
          "text": [
            "/usr/local/lib/python3.6/dist-packages/seaborn/categorical.py:3704: UserWarning: The `factorplot` function has been renamed to `catplot`. The original name will be removed in a future release. Please update your code. Note that the default `kind` in `factorplot` (`'point'`) has changed `'strip'` in `catplot`.\n",
            "  warnings.warn(msg)\n"
          ],
          "name": "stderr"
        },
        {
          "output_type": "execute_result",
          "data": {
            "text/plain": [
              "<seaborn.axisgrid.FacetGrid at 0x7f0f52685cc0>"
            ]
          },
          "metadata": {
            "tags": []
          },
          "execution_count": 20
        },
        {
          "output_type": "display_data",
          "data": {
            "image/png": "[encoded data removed]",
            "text/plain": [
              "<Figure size 412x360 with 1 Axes>"
            ]
          },
          "metadata": {
            "tags": [],
            "needs_background": "light"
          }
        }
      ]
    },
    {
      "cell_type": "code",
      "metadata": {
        "id": "vUPHfRzIs0Zs",
        "colab": {
          "base_uri": "https://localhost:8080/",
          "height": 136
        },
        "outputId": "3034ce0b-432b-4803-ad5d-171192978bea"
      },
      "source": [
        "pd.crosstab(index=df['Price_hike'],columns='count',dropna=True)"
      ],
      "execution_count": null,
      "outputs": [
        {
          "output_type": "execute_result",
          "data": {
            "text/html": [
              "<div>\n",
              "<style scoped>\n",
              "    .dataframe tbody tr th:only-of-type {\n",
              "        vertical-align: middle;\n",
              "    }\n",
              "\n",
              "    .dataframe tbody tr th {\n",
              "        vertical-align: top;\n",
              "    }\n",
              "\n",
              "    .dataframe thead th {\n",
              "        text-align: right;\n",
              "    }\n",
              "</style>\n",
              "<table border=\"1\" class=\"dataframe\">\n",
              "  <thead>\n",
              "    <tr style=\"text-align: right;\">\n",
              "      <th>col_0</th>\n",
              "      <th>count</th>\n",
              "    </tr>\n",
              "    <tr>\n",
              "      <th>Price_hike</th>\n",
              "      <th></th>\n",
              "    </tr>\n",
              "  </thead>\n",
              "  <tbody>\n",
              "    <tr>\n",
              "      <th>No</th>\n",
              "      <td>105</td>\n",
              "    </tr>\n",
              "    <tr>\n",
              "      <th>Yes</th>\n",
              "      <td>35</td>\n",
              "    </tr>\n",
              "  </tbody>\n",
              "</table>\n",
              "</div>"
            ],
            "text/plain": [
              "col_0       count\n",
              "Price_hike       \n",
              "No            105\n",
              "Yes            35"
            ]
          },
          "metadata": {
            "tags": []
          },
          "execution_count": 21
        }
      ]
    },
    {
      "cell_type": "code",
      "metadata": {
        "id": "eO0fmRi7QsFO",
        "colab": {
          "base_uri": "https://localhost:8080/",
          "height": 401
        },
        "outputId": "f22e64f2-1d61-4c45-bab0-9087887c652e"
      },
      "source": [
        "sns.catplot(x='Price_hike',kind='count', data=df, color='black')\n"
      ],
      "execution_count": null,
      "outputs": [
        {
          "output_type": "execute_result",
          "data": {
            "text/plain": [
              "<seaborn.axisgrid.FacetGrid at 0x7f0f4d54eda0>"
            ]
          },
          "metadata": {
            "tags": []
          },
          "execution_count": 59
        },
        {
          "output_type": "display_data",
          "data": {
            "image/png": "[encoded data removed]",
            "text/plain": [
              "<Figure size 360x360 with 1 Axes>"
            ]
          },
          "metadata": {
            "tags": [],
            "needs_background": "light"
          }
        }
      ]
    },
    {
      "cell_type": "code",
      "metadata": {
        "id": "gxZB0cxgR2YJ",
        "colab": {
          "base_uri": "https://localhost:8080/",
          "height": 384
        },
        "outputId": "4d8416f2-7f8f-428d-febb-d0e463fea4ad"
      },
      "source": [
        "#plt.figure(figsize=(8, 6))\n",
        "splot=sns.catplot(x=\"Risk_factor\",data=df,kind='count')\n"
      ],
      "execution_count": null,
      "outputs": [
        {
          "output_type": "display_data",
          "data": {
            "image/png": "[encoded data removed]",
            "text/plain": [
              "<Figure size 360x360 with 1 Axes>"
            ]
          },
          "metadata": {
            "tags": [],
            "needs_background": "light"
          }
        }
      ]
    },
    {
      "cell_type": "code",
      "metadata": {
        "id": "IWMg37i-WRKn"
      },
      "source": [
        "df_group_z=df[['Age','Sex','Risk_factor']]"
      ],
      "execution_count": null,
      "outputs": []
    },
    {
      "cell_type": "code",
      "metadata": {
        "id": "7nCBmY7bG4N0",
        "colab": {
          "base_uri": "https://localhost:8080/",
          "height": 400
        },
        "outputId": "c4972146-9070-485f-a6c2-2a71c6e4a77a"
      },
      "source": [
        "sns.catplot(x='Sex', data=df, kind='count',color='c' )"
      ],
      "execution_count": null,
      "outputs": [
        {
          "output_type": "execute_result",
          "data": {
            "text/plain": [
              "<seaborn.axisgrid.FacetGrid at 0x7f0f4f477b00>"
            ]
          },
          "metadata": {
            "tags": []
          },
          "execution_count": 38
        },
        {
          "output_type": "display_data",
          "data": {
            "image/png": "[encoded data removed]",
            "text/plain": [
              "<Figure size 360x360 with 1 Axes>"
            ]
          },
          "metadata": {
            "tags": [],
            "needs_background": "light"
          }
        }
      ]
    },
    {
      "cell_type": "code",
      "metadata": {
        "id": "Q0AJkcWQZSk-",
        "colab": {
          "base_uri": "https://localhost:8080/",
          "height": 296
        },
        "outputId": "64590c97-9f01-407d-f7a7-04bf42c3e17a"
      },
      "source": [
        "sns.barplot(x='Age',y='Risk_factor', data=df_group_z, hue='Sex')"
      ],
      "execution_count": null,
      "outputs": [
        {
          "output_type": "execute_result",
          "data": {
            "text/plain": [
              "<matplotlib.axes._subplots.AxesSubplot at 0x7f0f4f7e7eb8>"
            ]
          },
          "metadata": {
            "tags": []
          },
          "execution_count": 25
        },
        {
          "output_type": "display_data",
          "data": {
            "image/png": "[encoded data removed]",
            "text/plain": [
              "<Figure size 432x288 with 1 Axes>"
            ]
          },
          "metadata": {
            "tags": [],
            "needs_background": "light"
          }
        }
      ]
    },
    {
      "cell_type": "code",
      "metadata": {
        "id": "bntLn6-Da_kG",
        "colab": {
          "base_uri": "https://localhost:8080/",
          "height": 634
        },
        "outputId": "0b90a75f-aa09-47f8-b059-637b6b2bcdc2"
      },
      "source": [
        "df_group_y=df[['Occupation','Sex','Risk_factor']]\n",
        "plt.figure(figsize=(8,12))\n",
        "plot=sns.catplot(x='Occupation',y='Risk_factor', data=df_group_y, hue='Sex')\n",
        "plot.set_xticklabels(rotation=90)"
      ],
      "execution_count": null,
      "outputs": [
        {
          "output_type": "execute_result",
          "data": {
            "text/plain": [
              "<seaborn.axisgrid.FacetGrid at 0x7f0f4f7ff9e8>"
            ]
          },
          "metadata": {
            "tags": []
          },
          "execution_count": 26
        },
        {
          "output_type": "display_data",
          "data": {
            "text/plain": [
              "<Figure size 576x864 with 0 Axes>"
            ]
          },
          "metadata": {
            "tags": []
          }
        },
        {
          "output_type": "display_data",
          "data": {
            "image/png": "[encoded data removed]",
            "text/plain": [
              "<Figure size 432.125x360 with 1 Axes>"
            ]
          },
          "metadata": {
            "tags": [],
            "needs_background": "light"
          }
        }
      ]
    },
    {
      "cell_type": "code",
      "metadata": {
        "id": "uguja19ycK2E",
        "colab": {
          "base_uri": "https://localhost:8080/",
          "height": 617
        },
        "outputId": "8c7bbc1e-9efc-425d-c75e-07fd2b3137c8"
      },
      "source": [
        "g=sns.catplot(x=\"Occupation\", hue=\"Sex\", kind=\"count\",\n",
        "            palette=\"pastel\", edgecolor=\".6\",\n",
        "            data=df)\n",
        "g.set_xticklabels(rotation=90)"
      ],
      "execution_count": null,
      "outputs": [
        {
          "output_type": "execute_result",
          "data": {
            "text/plain": [
              "<seaborn.axisgrid.FacetGrid at 0x7f0f4f7e7cc0>"
            ]
          },
          "metadata": {
            "tags": []
          },
          "execution_count": 27
        },
        {
          "output_type": "display_data",
          "data": {
            "image/png": "[encoded data removed]",
            "text/plain": [
              "<Figure size 432.125x360 with 1 Axes>"
            ]
          },
          "metadata": {
            "tags": [],
            "needs_background": "light"
          }
        }
      ]
    },
    {
      "cell_type": "code",
      "metadata": {
        "id": "SOfAdDSacSkx",
        "colab": {
          "base_uri": "https://localhost:8080/",
          "height": 400
        },
        "outputId": "0326885a-3325-4b5b-c6b7-6613280dc399"
      },
      "source": [
        "sns.catplot(x=\"Location\",hue='Eager' ,kind=\"count\", palette=\"ch:.25\", data=df)"
      ],
      "execution_count": null,
      "outputs": [
        {
          "output_type": "execute_result",
          "data": {
            "text/plain": [
              "<seaborn.axisgrid.FacetGrid at 0x7f0f525fb978>"
            ]
          },
          "metadata": {
            "tags": []
          },
          "execution_count": 28
        },
        {
          "output_type": "display_data",
          "data": {
            "image/png": "[encoded data removed]",
            "text/plain": [
              "<Figure size 412x360 with 1 Axes>"
            ]
          },
          "metadata": {
            "tags": [],
            "needs_background": "light"
          }
        }
      ]
    },
    {
      "cell_type": "code",
      "metadata": {
        "id": "IRmSNVf6m69L",
        "colab": {
          "base_uri": "https://localhost:8080/",
          "height": 323
        },
        "outputId": "036d0dc1-d8a8-4578-ee0c-fa22ce52c905"
      },
      "source": [
        "plt.hist(df['Implement_safety'],\n",
        "         color='brown',\n",
        "         edgecolor='white',\n",
        "         bins=5)\n",
        "plt.title('count of people who look for safety implementation')\n",
        "plt.xlabel('Implement safety')\n",
        "plt.ylabel('Frequency') \n",
        "plt.xticks(rotation=5) \n",
        "plt.show()"
      ],
      "execution_count": null,
      "outputs": [
        {
          "output_type": "display_data",
          "data": {
            "image/png": "[encoded data removed]",
            "text/plain": [
              "<Figure size 432x288 with 1 Axes>"
            ]
          },
          "metadata": {
            "tags": [],
            "needs_background": "light"
          }
        }
      ]
    },
    {
      "cell_type": "code",
      "metadata": {
        "id": "Nm1lWn1MnjlA",
        "colab": {
          "base_uri": "https://localhost:8080/",
          "height": 324
        },
        "outputId": "648f03cf-a83a-42c2-aa41-f0f6fa01a271"
      },
      "source": [
        "plt.hist(df['alternate_seating'],\n",
        "         color='orange',\n",
        "         edgecolor='white')\n",
        "plt.title('count of people who agree for alternate seating')\n",
        "plt.xlabel('Alternate seating')\n",
        "plt.ylabel('Frequency') \n",
        "plt.xticks(rotation=45) \n",
        "plt.show()"
      ],
      "execution_count": null,
      "outputs": [
        {
          "output_type": "display_data",
          "data": {
            "image/png": "[encoded data removed]",
            "text/plain": [
              "<Figure size 432x288 with 1 Axes>"
            ]
          },
          "metadata": {
            "tags": [],
            "needs_background": "light"
          }
        }
      ]
    },
    {
      "cell_type": "code",
      "metadata": {
        "id": "DsGufO1dogIK",
        "colab": {
          "base_uri": "https://localhost:8080/",
          "height": 242
        },
        "outputId": "60d80541-683a-46a7-83d3-45fc07d67434"
      },
      "source": [
        "f, ax = plt.subplots(figsize=(7, 3))\n",
        "sns.countplot(y=\"Visit_time\", data=df, color=\"c\")"
      ],
      "execution_count": null,
      "outputs": [
        {
          "output_type": "execute_result",
          "data": {
            "text/plain": [
              "<matplotlib.axes._subplots.AxesSubplot at 0x7f0f4f5d1e10>"
            ]
          },
          "metadata": {
            "tags": []
          },
          "execution_count": 31
        },
        {
          "output_type": "display_data",
          "data": {
            "image/png": "[encoded data removed]",
            "text/plain": [
              "<Figure size 504x216 with 1 Axes>"
            ]
          },
          "metadata": {
            "tags": [],
            "needs_background": "light"
          }
        }
      ]
    },
    {
      "cell_type": "code",
      "metadata": {
        "id": "gZZqXt3yo_LN",
        "colab": {
          "base_uri": "https://localhost:8080/",
          "height": 400
        },
        "outputId": "c541eea5-ca01-427f-aeb8-2f0309050411"
      },
      "source": [
        "sns.catplot(y=\"Price_hike\", hue=\"Eager\",\n",
        "            col=\"Sex\", aspect=.7, kind=\"count\",\n",
        "             data=df, palette=\"ch:.25\")"
      ],
      "execution_count": null,
      "outputs": [
        {
          "output_type": "execute_result",
          "data": {
            "text/plain": [
              "<seaborn.axisgrid.FacetGrid at 0x7f0f4d25a898>"
            ]
          },
          "metadata": {
            "tags": []
          },
          "execution_count": 60
        },
        {
          "output_type": "display_data",
          "data": {
            "image/png": "[encoded data removed]",
            "text/plain": [
              "<Figure size 556x360 with 2 Axes>"
            ]
          },
          "metadata": {
            "tags": [],
            "needs_background": "light"
          }
        }
      ]
    },
    {
      "cell_type": "code",
      "metadata": {
        "id": "nNbhis4Pp4pR",
        "colab": {
          "base_uri": "https://localhost:8080/",
          "height": 488
        },
        "outputId": "e7378f9e-3073-42e9-b3cc-5fe19f4fab55"
      },
      "source": [
        "sns.catplot(x=\"Risk_factor-binned\", y=\"Age\", order=[\"Low\", \"Medium\",\"High\"], hue='Sex', data=df, kind=\"swarm\")"
      ],
      "execution_count": null,
      "outputs": [
        {
          "output_type": "stream",
          "text": [
            "/usr/local/lib/python3.6/dist-packages/seaborn/categorical.py:1296: UserWarning: 26.2% of the points cannot be placed; you may want to decrease the size of the markers or use stripplot.\n",
            "  warnings.warn(msg, UserWarning)\n",
            "/usr/local/lib/python3.6/dist-packages/seaborn/categorical.py:1296: UserWarning: 44.8% of the points cannot be placed; you may want to decrease the size of the markers or use stripplot.\n",
            "  warnings.warn(msg, UserWarning)\n"
          ],
          "name": "stderr"
        },
        {
          "output_type": "execute_result",
          "data": {
            "text/plain": [
              "<seaborn.axisgrid.FacetGrid at 0x7f0f4d226320>"
            ]
          },
          "metadata": {
            "tags": []
          },
          "execution_count": 52
        },
        {
          "output_type": "display_data",
          "data": {
            "image/png": "[encoded data removed]",
            "text/plain": [
              "<Figure size 432.125x360 with 1 Axes>"
            ]
          },
          "metadata": {
            "tags": [],
            "needs_background": "light"
          }
        }
      ]
    },
    {
      "cell_type": "code",
      "metadata": {
        "id": "xd_qw-o0rX3D",
        "colab": {
          "base_uri": "https://localhost:8080/",
          "height": 280
        },
        "outputId": "b40bef94-9ccc-4448-a787-8667143d7c6c"
      },
      "source": [
        "x = sns.violinplot(x=\"Risk_factor\", kind='count', data=df)"
      ],
      "execution_count": null,
      "outputs": [
        {
          "output_type": "display_data",
          "data": {
            "image/png": "[encoded data removed]",
            "text/plain": [
              "<Figure size 432x288 with 1 Axes>"
            ]
          },
          "metadata": {
            "tags": [],
            "needs_background": "light"
          }
        }
      ]
    },
    {
      "cell_type": "code",
      "metadata": {
        "id": "LfryWQu0sbre",
        "colab": {
          "base_uri": "https://localhost:8080/",
          "height": 456
        },
        "outputId": "62119d9a-d134-4447-dde0-069a774eb9ed"
      },
      "source": [
        "u=sns.catplot(x=\"Trustworthy\",kind=\"count\", palette=\"ch:.25\", data=df)\n",
        "u.set_xticklabels(rotation=90)"
      ],
      "execution_count": null,
      "outputs": [
        {
          "output_type": "execute_result",
          "data": {
            "text/plain": [
              "<seaborn.axisgrid.FacetGrid at 0x7f0f4f3ead68>"
            ]
          },
          "metadata": {
            "tags": []
          },
          "execution_count": 35
        },
        {
          "output_type": "display_data",
          "data": {
            "image/png": "[encoded data removed]",
            "text/plain": [
              "<Figure size 360x360 with 1 Axes>"
            ]
          },
          "metadata": {
            "tags": [],
            "needs_background": "light"
          }
        }
      ]
    },
    {
      "cell_type": "code",
      "metadata": {
        "id": "33DBT9zYurwG",
        "colab": {
          "base_uri": "https://localhost:8080/",
          "height": 296
        },
        "outputId": "b7b1f620-6790-4144-9dec-545c148f383c"
      },
      "source": [
        "sns.stripplot(x=\"Age\",y='Trustworthy', data=df)\n"
      ],
      "execution_count": null,
      "outputs": [
        {
          "output_type": "execute_result",
          "data": {
            "text/plain": [
              "<matplotlib.axes._subplots.AxesSubplot at 0x7f0f4f314a58>"
            ]
          },
          "metadata": {
            "tags": []
          },
          "execution_count": 36
        },
        {
          "output_type": "display_data",
          "data": {
            "image/png": "[encoded data removed]",
            "text/plain": [
              "<Figure size 432x288 with 1 Axes>"
            ]
          },
          "metadata": {
            "tags": [],
            "needs_background": "light"
          }
        }
      ]
    },
    {
      "cell_type": "code",
      "metadata": {
        "id": "e9ComMsovAz6"
      },
      "source": [
        ""
      ],
      "execution_count": null,
      "outputs": []
    }
  ]
}