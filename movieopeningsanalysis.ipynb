{
  "nbformat": 4,
  "nbformat_minor": 0,
  "metadata": {
    "colab": {
      "name": "team_project_dp.ipynb",
      "provenance": [],
      "collapsed_sections": [],
      "toc_visible": true,
      "authorship_tag": "ABX9TyM/Zai7eIkmssrPtZYeQ4NZ",
      "include_colab_link": true
    },
    "kernelspec": {
      "name": "python3",
      "display_name": "Python 3"
    }
  },
  "cells": [
    {
      "cell_type": "markdown",
      "metadata": {
        "id": "view-in-github",
        "colab_type": "text"
      },
      "source": [
        "<a href=\"https://colab.research.google.com/github/Anusha-T8/ProgrammingAssignment2/blob/master/movieopeningsanalysis.ipynb\" target=\"_parent\"><img src=\"https://colab.research.google.com/assets/colab-badge.svg\" alt=\"Open In Colab\"/></a>"
      ]
    },
    {
      "cell_type": "markdown",
      "metadata": {
        "id": "XEOsrotvsuL2"
      },
      "source": [
        "Importing required libraries."
      ]
    },
    {
      "cell_type": "code",
      "metadata": {
        "id": "brJhrCRRsizw"
      },
      "source": [
        "import pandas as pd\n",
        "import numpy as np\n",
        "%matplotlib inline\n",
        "import matplotlib as plt\n",
        "from matplotlib import pyplot"
      ],
      "execution_count": null,
      "outputs": []
    },
    {
      "cell_type": "code",
      "metadata": {
        "id": "ma-MrNb-tMWE"
      },
      "source": [
        "path=\"/content/AUDIENCE_READINESS_TO_CINEMAS_DATA_COLLECTION.csv\""
      ],
      "execution_count": null,
      "outputs": []
    },
    {
      "cell_type": "code",
      "metadata": {
        "id": "F7WgyW-5tvt7"
      },
      "source": [
        "df=pd.read_csv(path, na_values=' ')"
      ],
      "execution_count": null,
      "outputs": []
    },
    {
      "cell_type": "code",
      "metadata": {
        "id": "myj7PYZut5xp",
        "colab": {
          "base_uri": "https://localhost:8080/",
          "height": 736
        },
        "outputId": "2e71b6f6-b0d5-453e-c6ec-cc0d7293c261"
      },
      "source": [
        "df.head()"
      ],
      "execution_count": null,
      "outputs": [
        {
          "output_type": "execute_result",
          "data": {
            "text/html": [
              "<div>\n",
              "<style scoped>\n",
              "    .dataframe tbody tr th:only-of-type {\n",
              "        vertical-align: middle;\n",
              "    }\n",
              "\n",
              "    .dataframe tbody tr th {\n",
              "        vertical-align: top;\n",
              "    }\n",
              "\n",
              "    .dataframe thead th {\n",
              "        text-align: right;\n",
              "    }\n",
              "</style>\n",
              "<table border=\"1\" class=\"dataframe\">\n",
              "  <thead>\n",
              "    <tr style=\"text-align: right;\">\n",
              "      <th></th>\n",
              "      <th>Timestamp</th>\n",
              "      <th>Email Address</th>\n",
              "      <th>Name</th>\n",
              "      <th>Age</th>\n",
              "      <th>Sex</th>\n",
              "      <th>Occupation</th>\n",
              "      <th>Eager to rush to cinemas for entertainment?</th>\n",
              "      <th>Location</th>\n",
              "      <th>According to you should safety and hygienic protocols be implemented throughout the cinemas at all times?</th>\n",
              "      <th>Do you prefer social distancing/alternate seating in the movies even with your friends and families?</th>\n",
              "      <th>Will you accept price hike in movie tickets?</th>\n",
              "      <th>Movie visiting time</th>\n",
              "      <th>Option to carry own food</th>\n",
              "      <th>What would you prefer for new movies release considering all current scenarios?</th>\n",
              "      <th>According to you, risk range of going to cinemas</th>\n",
              "      <th>Factors Impacting Decision to Visit</th>\n",
              "      <th>Which is your most trusted Cinemas?</th>\n",
              "    </tr>\n",
              "  </thead>\n",
              "  <tbody>\n",
              "    <tr>\n",
              "      <th>0</th>\n",
              "      <td>10/20/2020 10:23:31</td>\n",
              "      <td>karthikrgowda33@gmail.com</td>\n",
              "      <td>Karthik R</td>\n",
              "      <td>18-28</td>\n",
              "      <td>Male</td>\n",
              "      <td>Student</td>\n",
              "      <td>No</td>\n",
              "      <td>Urban</td>\n",
              "      <td>Strongly agree</td>\n",
              "      <td>Agree</td>\n",
              "      <td>No</td>\n",
              "      <td>Night time (the last two shows when there is l...</td>\n",
              "      <td>Highly prefer carrying own food</td>\n",
              "      <td>Cinemas</td>\n",
              "      <td>4</td>\n",
              "      <td>To hang out with friends/families</td>\n",
              "      <td>Theatre</td>\n",
              "    </tr>\n",
              "    <tr>\n",
              "      <th>1</th>\n",
              "      <td>10/20/2020 10:25:29</td>\n",
              "      <td>aishwaryadsouza25@gmail.com</td>\n",
              "      <td>Aishwarya E D'Souza</td>\n",
              "      <td>18-28</td>\n",
              "      <td>Female</td>\n",
              "      <td>Student</td>\n",
              "      <td>No</td>\n",
              "      <td>Urban</td>\n",
              "      <td>Disagree</td>\n",
              "      <td>Disagree</td>\n",
              "      <td>No</td>\n",
              "      <td>Not visiting cinemas</td>\n",
              "      <td>Not visiting Cinemas</td>\n",
              "      <td>OTT entertainment</td>\n",
              "      <td>4</td>\n",
              "      <td>Precautions taken by cinemas, Cinemas in conta...</td>\n",
              "      <td>PVR</td>\n",
              "    </tr>\n",
              "    <tr>\n",
              "      <th>2</th>\n",
              "      <td>10/20/2020 10:33:00</td>\n",
              "      <td>chandanrajanna@gmail.com</td>\n",
              "      <td>Chandan</td>\n",
              "      <td>18-28</td>\n",
              "      <td>Male</td>\n",
              "      <td>Student</td>\n",
              "      <td>No</td>\n",
              "      <td>Urban</td>\n",
              "      <td>Neutral, depends on the number of people visit...</td>\n",
              "      <td>Disagree</td>\n",
              "      <td>No</td>\n",
              "      <td>Night time (the last two shows when there is l...</td>\n",
              "      <td>Not visiting Cinemas</td>\n",
              "      <td>OTT entertainment</td>\n",
              "      <td>4</td>\n",
              "      <td>Not interested in visiting cinemas</td>\n",
              "      <td>None</td>\n",
              "    </tr>\n",
              "    <tr>\n",
              "      <th>3</th>\n",
              "      <td>10/20/2020 10:35:24</td>\n",
              "      <td>sunainaravikumar123@gmail.com</td>\n",
              "      <td>Sunaina</td>\n",
              "      <td>18-28</td>\n",
              "      <td>Female</td>\n",
              "      <td>Professionals/Government/Private employees</td>\n",
              "      <td>No</td>\n",
              "      <td>Urban</td>\n",
              "      <td>Strongly agree</td>\n",
              "      <td>Agree</td>\n",
              "      <td>No</td>\n",
              "      <td>Not visiting cinemas</td>\n",
              "      <td>Not visiting Cinemas</td>\n",
              "      <td>OTT entertainment</td>\n",
              "      <td>4</td>\n",
              "      <td>Not interested in visiting cinemas</td>\n",
              "      <td>PVR</td>\n",
              "    </tr>\n",
              "    <tr>\n",
              "      <th>4</th>\n",
              "      <td>10/20/2020 10:35:28</td>\n",
              "      <td>sunainaravikumar123@gmail.com</td>\n",
              "      <td>Sunaina</td>\n",
              "      <td>18-28</td>\n",
              "      <td>Female</td>\n",
              "      <td>Professionals/Government/Private employees</td>\n",
              "      <td>No</td>\n",
              "      <td>Urban</td>\n",
              "      <td>Strongly agree</td>\n",
              "      <td>Agree</td>\n",
              "      <td>No</td>\n",
              "      <td>Not visiting cinemas</td>\n",
              "      <td>Not visiting Cinemas</td>\n",
              "      <td>OTT entertainment</td>\n",
              "      <td>4</td>\n",
              "      <td>Not interested in visiting cinemas</td>\n",
              "      <td>PVR</td>\n",
              "    </tr>\n",
              "  </tbody>\n",
              "</table>\n",
              "</div>"
            ],
            "text/plain": [
              "             Timestamp  ... Which is your most trusted Cinemas?\n",
              "0  10/20/2020 10:23:31  ...                             Theatre\n",
              "1  10/20/2020 10:25:29  ...                                 PVR\n",
              "2  10/20/2020 10:33:00  ...                                None\n",
              "3  10/20/2020 10:35:24  ...                                 PVR\n",
              "4  10/20/2020 10:35:28  ...                                 PVR\n",
              "\n",
              "[5 rows x 17 columns]"
            ]
          },
          "metadata": {
            "tags": []
          },
          "execution_count": 90
        }
      ]
    },
    {
      "cell_type": "markdown",
      "metadata": {
        "id": "dN_jUhYi1_b_"
      },
      "source": [
        "Editing header row"
      ]
    },
    {
      "cell_type": "code",
      "metadata": {
        "id": "AXdj3m_tt7kv",
        "colab": {
          "base_uri": "https://localhost:8080/"
        },
        "outputId": "d96a8472-9c71-4c22-9839-1442b902b237"
      },
      "source": [
        "df.columns"
      ],
      "execution_count": null,
      "outputs": [
        {
          "output_type": "execute_result",
          "data": {
            "text/plain": [
              "Index(['Timestamp', 'Email Address', 'Name', 'Age', 'Sex', 'Occupation',\n",
              "       'Eager to rush to cinemas for entertainment?', 'Location',\n",
              "       'According to you should safety and hygienic protocols be implemented throughout the cinemas at all times?',\n",
              "       'Do you prefer social distancing/alternate seating in the movies even with your friends and families?',\n",
              "       'Will you accept price hike in movie tickets?', 'Movie visiting time',\n",
              "       'Option to carry own food',\n",
              "       'What would you prefer for new movies release considering all current scenarios?',\n",
              "       'According to you, risk range of going to cinemas',\n",
              "       'Factors Impacting Decision to Visit',\n",
              "       'Which is your most trusted Cinemas?'],\n",
              "      dtype='object')"
            ]
          },
          "metadata": {
            "tags": []
          },
          "execution_count": 91
        }
      ]
    },
    {
      "cell_type": "code",
      "metadata": {
        "id": "Ide91Di5uBK-"
      },
      "source": [
        "df.drop(['Timestamp','Email Address'], axis=1,inplace=True)"
      ],
      "execution_count": null,
      "outputs": []
    },
    {
      "cell_type": "code",
      "metadata": {
        "id": "uDhGooOhut03"
      },
      "source": [
        "df.rename(columns={\"Eager to rush to cinemas for entertainment?\":'Eager','According to you should safety and hygienic protocols be implemented throughout the cinemas at all times?':'Implement_safety','Do you prefer social distancing/alternate seating in the movies even with your friends and families?':'alternate_seating','Will you accept price hike in movie tickets?':'Price_hike','Movie visiting time':'Visit_time','Option to carry own food':'Food_option','What would you prefer for new movies release considering all current scenarios?':'OTT/Cinema','According to you, risk range of going to cinemas':'Risk_factor','Factors Impacting Decision to Visit':'Factors_impacting','Which is your most trusted Cinemas?':'Trustworthy'},inplace=True)"
      ],
      "execution_count": null,
      "outputs": []
    },
    {
      "cell_type": "code",
      "metadata": {
        "id": "WB7qEBLgyjmo",
        "colab": {
          "base_uri": "https://localhost:8080/"
        },
        "outputId": "dd65cb93-76b1-4a57-a721-24677f60dbdb"
      },
      "source": [
        "df.columns"
      ],
      "execution_count": null,
      "outputs": [
        {
          "output_type": "execute_result",
          "data": {
            "text/plain": [
              "Index(['Name', 'Age', 'Sex', 'Occupation', 'Eager', 'Location',\n",
              "       'Implement_safety', 'alternate_seating', 'Price_hike', 'Visit_time',\n",
              "       'Food_option', 'OTT/Cinema', 'Risk_factor', 'Factors_impacting',\n",
              "       'Trustworthy'],\n",
              "      dtype='object')"
            ]
          },
          "metadata": {
            "tags": []
          },
          "execution_count": 94
        }
      ]
    },
    {
      "cell_type": "markdown",
      "metadata": {
        "id": "1caAWrUk4W-j"
      },
      "source": [
        "Checking attributes of the dataset"
      ]
    },
    {
      "cell_type": "code",
      "metadata": {
        "id": "aW6GB91d1xYn",
        "colab": {
          "base_uri": "https://localhost:8080/",
          "height": 383
        },
        "outputId": "033cc53a-d3d3-4706-8303-b25fab676510"
      },
      "source": [
        "df.head()"
      ],
      "execution_count": null,
      "outputs": [
        {
          "output_type": "execute_result",
          "data": {
            "text/html": [
              "<div>\n",
              "<style scoped>\n",
              "    .dataframe tbody tr th:only-of-type {\n",
              "        vertical-align: middle;\n",
              "    }\n",
              "\n",
              "    .dataframe tbody tr th {\n",
              "        vertical-align: top;\n",
              "    }\n",
              "\n",
              "    .dataframe thead th {\n",
              "        text-align: right;\n",
              "    }\n",
              "</style>\n",
              "<table border=\"1\" class=\"dataframe\">\n",
              "  <thead>\n",
              "    <tr style=\"text-align: right;\">\n",
              "      <th></th>\n",
              "      <th>Name</th>\n",
              "      <th>Age</th>\n",
              "      <th>Sex</th>\n",
              "      <th>Occupation</th>\n",
              "      <th>Eager</th>\n",
              "      <th>Location</th>\n",
              "      <th>Implement_safety</th>\n",
              "      <th>alternate_seating</th>\n",
              "      <th>Price_hike</th>\n",
              "      <th>Visit_time</th>\n",
              "      <th>Food_option</th>\n",
              "      <th>OTT/Cinema</th>\n",
              "      <th>Risk_factor</th>\n",
              "      <th>Factors_impacting</th>\n",
              "      <th>Trustworthy</th>\n",
              "    </tr>\n",
              "  </thead>\n",
              "  <tbody>\n",
              "    <tr>\n",
              "      <th>0</th>\n",
              "      <td>Karthik R</td>\n",
              "      <td>18-28</td>\n",
              "      <td>Male</td>\n",
              "      <td>Student</td>\n",
              "      <td>No</td>\n",
              "      <td>Urban</td>\n",
              "      <td>Strongly agree</td>\n",
              "      <td>Agree</td>\n",
              "      <td>No</td>\n",
              "      <td>Night time (the last two shows when there is l...</td>\n",
              "      <td>Highly prefer carrying own food</td>\n",
              "      <td>Cinemas</td>\n",
              "      <td>4</td>\n",
              "      <td>To hang out with friends/families</td>\n",
              "      <td>Theatre</td>\n",
              "    </tr>\n",
              "    <tr>\n",
              "      <th>1</th>\n",
              "      <td>Aishwarya E D'Souza</td>\n",
              "      <td>18-28</td>\n",
              "      <td>Female</td>\n",
              "      <td>Student</td>\n",
              "      <td>No</td>\n",
              "      <td>Urban</td>\n",
              "      <td>Disagree</td>\n",
              "      <td>Disagree</td>\n",
              "      <td>No</td>\n",
              "      <td>Not visiting cinemas</td>\n",
              "      <td>Not visiting Cinemas</td>\n",
              "      <td>OTT entertainment</td>\n",
              "      <td>4</td>\n",
              "      <td>Precautions taken by cinemas, Cinemas in conta...</td>\n",
              "      <td>PVR</td>\n",
              "    </tr>\n",
              "    <tr>\n",
              "      <th>2</th>\n",
              "      <td>Chandan</td>\n",
              "      <td>18-28</td>\n",
              "      <td>Male</td>\n",
              "      <td>Student</td>\n",
              "      <td>No</td>\n",
              "      <td>Urban</td>\n",
              "      <td>Neutral, depends on the number of people visit...</td>\n",
              "      <td>Disagree</td>\n",
              "      <td>No</td>\n",
              "      <td>Night time (the last two shows when there is l...</td>\n",
              "      <td>Not visiting Cinemas</td>\n",
              "      <td>OTT entertainment</td>\n",
              "      <td>4</td>\n",
              "      <td>Not interested in visiting cinemas</td>\n",
              "      <td>None</td>\n",
              "    </tr>\n",
              "    <tr>\n",
              "      <th>3</th>\n",
              "      <td>Sunaina</td>\n",
              "      <td>18-28</td>\n",
              "      <td>Female</td>\n",
              "      <td>Professionals/Government/Private employees</td>\n",
              "      <td>No</td>\n",
              "      <td>Urban</td>\n",
              "      <td>Strongly agree</td>\n",
              "      <td>Agree</td>\n",
              "      <td>No</td>\n",
              "      <td>Not visiting cinemas</td>\n",
              "      <td>Not visiting Cinemas</td>\n",
              "      <td>OTT entertainment</td>\n",
              "      <td>4</td>\n",
              "      <td>Not interested in visiting cinemas</td>\n",
              "      <td>PVR</td>\n",
              "    </tr>\n",
              "    <tr>\n",
              "      <th>4</th>\n",
              "      <td>Sunaina</td>\n",
              "      <td>18-28</td>\n",
              "      <td>Female</td>\n",
              "      <td>Professionals/Government/Private employees</td>\n",
              "      <td>No</td>\n",
              "      <td>Urban</td>\n",
              "      <td>Strongly agree</td>\n",
              "      <td>Agree</td>\n",
              "      <td>No</td>\n",
              "      <td>Not visiting cinemas</td>\n",
              "      <td>Not visiting Cinemas</td>\n",
              "      <td>OTT entertainment</td>\n",
              "      <td>4</td>\n",
              "      <td>Not interested in visiting cinemas</td>\n",
              "      <td>PVR</td>\n",
              "    </tr>\n",
              "  </tbody>\n",
              "</table>\n",
              "</div>"
            ],
            "text/plain": [
              "                   Name  ... Trustworthy\n",
              "0             Karthik R  ...     Theatre\n",
              "1  Aishwarya E D'Souza   ...         PVR\n",
              "2               Chandan  ...        None\n",
              "3               Sunaina  ...         PVR\n",
              "4               Sunaina  ...         PVR\n",
              "\n",
              "[5 rows x 15 columns]"
            ]
          },
          "metadata": {
            "tags": []
          },
          "execution_count": 95
        }
      ]
    },
    {
      "cell_type": "code",
      "metadata": {
        "id": "Z9kcTMux2XHu",
        "colab": {
          "base_uri": "https://localhost:8080/",
          "height": 400
        },
        "outputId": "27453fd3-1d90-472d-f103-31f24bc98065"
      },
      "source": [
        "df.tail()"
      ],
      "execution_count": null,
      "outputs": [
        {
          "output_type": "execute_result",
          "data": {
            "text/html": [
              "<div>\n",
              "<style scoped>\n",
              "    .dataframe tbody tr th:only-of-type {\n",
              "        vertical-align: middle;\n",
              "    }\n",
              "\n",
              "    .dataframe tbody tr th {\n",
              "        vertical-align: top;\n",
              "    }\n",
              "\n",
              "    .dataframe thead th {\n",
              "        text-align: right;\n",
              "    }\n",
              "</style>\n",
              "<table border=\"1\" class=\"dataframe\">\n",
              "  <thead>\n",
              "    <tr style=\"text-align: right;\">\n",
              "      <th></th>\n",
              "      <th>Name</th>\n",
              "      <th>Age</th>\n",
              "      <th>Sex</th>\n",
              "      <th>Occupation</th>\n",
              "      <th>Eager</th>\n",
              "      <th>Location</th>\n",
              "      <th>Implement_safety</th>\n",
              "      <th>alternate_seating</th>\n",
              "      <th>Price_hike</th>\n",
              "      <th>Visit_time</th>\n",
              "      <th>Food_option</th>\n",
              "      <th>OTT/Cinema</th>\n",
              "      <th>Risk_factor</th>\n",
              "      <th>Factors_impacting</th>\n",
              "      <th>Trustworthy</th>\n",
              "    </tr>\n",
              "  </thead>\n",
              "  <tbody>\n",
              "    <tr>\n",
              "      <th>135</th>\n",
              "      <td>Sagar</td>\n",
              "      <td>38-48</td>\n",
              "      <td>Male</td>\n",
              "      <td>Professionals/Government/Private employees</td>\n",
              "      <td>No</td>\n",
              "      <td>Urban</td>\n",
              "      <td>Strongly agree</td>\n",
              "      <td>Agree</td>\n",
              "      <td>Yes</td>\n",
              "      <td>Anytime as per your conveience</td>\n",
              "      <td>Highly prefer carrying own food</td>\n",
              "      <td>Cinemas</td>\n",
              "      <td>5</td>\n",
              "      <td>Precautions taken by cinemas, Not interested i...</td>\n",
              "      <td>None</td>\n",
              "    </tr>\n",
              "    <tr>\n",
              "      <th>136</th>\n",
              "      <td>Aishwarya</td>\n",
              "      <td>28-38</td>\n",
              "      <td>Female</td>\n",
              "      <td>Professionals/Government/Private employees</td>\n",
              "      <td>No</td>\n",
              "      <td>Urban</td>\n",
              "      <td>Strongly agree</td>\n",
              "      <td>Agree</td>\n",
              "      <td>No</td>\n",
              "      <td>Anytime as per your conveience</td>\n",
              "      <td>Highly prefer carrying own food</td>\n",
              "      <td>Cinemas</td>\n",
              "      <td>5</td>\n",
              "      <td>Precautions taken by cinemas, Coronavirus case...</td>\n",
              "      <td>None</td>\n",
              "    </tr>\n",
              "    <tr>\n",
              "      <th>137</th>\n",
              "      <td>Shashi</td>\n",
              "      <td>38-48</td>\n",
              "      <td>Male</td>\n",
              "      <td>Professionals/Government/Private employees</td>\n",
              "      <td>No</td>\n",
              "      <td>Urban</td>\n",
              "      <td>Strongly agree</td>\n",
              "      <td>Agree</td>\n",
              "      <td>No</td>\n",
              "      <td>Anytime as per your conveience</td>\n",
              "      <td>No food should be entertained at cinemas</td>\n",
              "      <td>Cinemas</td>\n",
              "      <td>5</td>\n",
              "      <td>Coronavirus cases in the city</td>\n",
              "      <td>None</td>\n",
              "    </tr>\n",
              "    <tr>\n",
              "      <th>138</th>\n",
              "      <td>Kishan</td>\n",
              "      <td>28-38</td>\n",
              "      <td>Male</td>\n",
              "      <td>Business</td>\n",
              "      <td>No</td>\n",
              "      <td>Urban</td>\n",
              "      <td>Neutral, depends on the number of people visit...</td>\n",
              "      <td>Disagree</td>\n",
              "      <td>No</td>\n",
              "      <td>Anytime as per your conveience</td>\n",
              "      <td>Highly prefer carrying own food</td>\n",
              "      <td>Cinemas</td>\n",
              "      <td>4</td>\n",
              "      <td>Precautions taken by cinemas</td>\n",
              "      <td>PVR</td>\n",
              "    </tr>\n",
              "    <tr>\n",
              "      <th>139</th>\n",
              "      <td>Lakshmi</td>\n",
              "      <td>28-38</td>\n",
              "      <td>Female</td>\n",
              "      <td>Home maker</td>\n",
              "      <td>No</td>\n",
              "      <td>Urban</td>\n",
              "      <td>Strongly agree</td>\n",
              "      <td>Agree</td>\n",
              "      <td>No</td>\n",
              "      <td>Anytime as per your conveience</td>\n",
              "      <td>Highly prefer carrying own food</td>\n",
              "      <td>Cinemas</td>\n",
              "      <td>5</td>\n",
              "      <td>Coronavirus cases in the city</td>\n",
              "      <td>PVR</td>\n",
              "    </tr>\n",
              "  </tbody>\n",
              "</table>\n",
              "</div>"
            ],
            "text/plain": [
              "          Name  ... Trustworthy\n",
              "135      Sagar  ...        None\n",
              "136  Aishwarya  ...        None\n",
              "137     Shashi  ...        None\n",
              "138     Kishan  ...         PVR\n",
              "139   Lakshmi   ...         PVR\n",
              "\n",
              "[5 rows x 15 columns]"
            ]
          },
          "metadata": {
            "tags": []
          },
          "execution_count": 96
        }
      ]
    },
    {
      "cell_type": "code",
      "metadata": {
        "id": "7E21lK6r2bG8",
        "colab": {
          "base_uri": "https://localhost:8080/"
        },
        "outputId": "b55ddd6a-b1da-4a59-d65d-6a05d7be6d67"
      },
      "source": [
        "df.index"
      ],
      "execution_count": null,
      "outputs": [
        {
          "output_type": "execute_result",
          "data": {
            "text/plain": [
              "RangeIndex(start=0, stop=140, step=1)"
            ]
          },
          "metadata": {
            "tags": []
          },
          "execution_count": 97
        }
      ]
    },
    {
      "cell_type": "code",
      "metadata": {
        "id": "Aq-jwIfQ27UG",
        "colab": {
          "base_uri": "https://localhost:8080/"
        },
        "outputId": "5fddca45-9328-4237-98f1-25c522123d8d"
      },
      "source": [
        "df.shape"
      ],
      "execution_count": null,
      "outputs": [
        {
          "output_type": "execute_result",
          "data": {
            "text/plain": [
              "(140, 15)"
            ]
          },
          "metadata": {
            "tags": []
          },
          "execution_count": 98
        }
      ]
    },
    {
      "cell_type": "code",
      "metadata": {
        "id": "_qudPzex3bpb",
        "colab": {
          "base_uri": "https://localhost:8080/"
        },
        "outputId": "d5a33ecd-dc96-4f7b-dec9-c614853736a6"
      },
      "source": [
        "df.size"
      ],
      "execution_count": null,
      "outputs": [
        {
          "output_type": "execute_result",
          "data": {
            "text/plain": [
              "2100"
            ]
          },
          "metadata": {
            "tags": []
          },
          "execution_count": 99
        }
      ]
    },
    {
      "cell_type": "code",
      "metadata": {
        "id": "TdabuAMM3hVe",
        "colab": {
          "base_uri": "https://localhost:8080/"
        },
        "outputId": "3fe58024-4d7e-44c4-c8c6-ceb56d237971"
      },
      "source": [
        "df.memory_usage()"
      ],
      "execution_count": null,
      "outputs": [
        {
          "output_type": "execute_result",
          "data": {
            "text/plain": [
              "Index                 128\n",
              "Name                 1120\n",
              "Age                  1120\n",
              "Sex                  1120\n",
              "Occupation           1120\n",
              "Eager                1120\n",
              "Location             1120\n",
              "Implement_safety     1120\n",
              "alternate_seating    1120\n",
              "Price_hike           1120\n",
              "Visit_time           1120\n",
              "Food_option          1120\n",
              "OTT/Cinema           1120\n",
              "Risk_factor          1120\n",
              "Factors_impacting    1120\n",
              "Trustworthy          1120\n",
              "dtype: int64"
            ]
          },
          "metadata": {
            "tags": []
          },
          "execution_count": 100
        }
      ]
    },
    {
      "cell_type": "markdown",
      "metadata": {
        "id": "bCiMGn0z4cU1"
      },
      "source": [
        "Data types of variables"
      ]
    },
    {
      "cell_type": "code",
      "metadata": {
        "id": "f7zhtOL43jwU",
        "colab": {
          "base_uri": "https://localhost:8080/"
        },
        "outputId": "c0b05ca0-a040-40df-c4f8-7dcbca483fbd"
      },
      "source": [
        "df.dtypes"
      ],
      "execution_count": null,
      "outputs": [
        {
          "output_type": "execute_result",
          "data": {
            "text/plain": [
              "Name                 object\n",
              "Age                  object\n",
              "Sex                  object\n",
              "Occupation           object\n",
              "Eager                object\n",
              "Location             object\n",
              "Implement_safety     object\n",
              "alternate_seating    object\n",
              "Price_hike           object\n",
              "Visit_time           object\n",
              "Food_option          object\n",
              "OTT/Cinema           object\n",
              "Risk_factor           int64\n",
              "Factors_impacting    object\n",
              "Trustworthy          object\n",
              "dtype: object"
            ]
          },
          "metadata": {
            "tags": []
          },
          "execution_count": 101
        }
      ]
    },
    {
      "cell_type": "code",
      "metadata": {
        "id": "tTj2HL648C2_",
        "colab": {
          "base_uri": "https://localhost:8080/"
        },
        "outputId": "7330a41e-32c5-4093-89f8-e8e2a689162d"
      },
      "source": [
        "df.dtypes.value_counts()"
      ],
      "execution_count": null,
      "outputs": [
        {
          "output_type": "execute_result",
          "data": {
            "text/plain": [
              "object    14\n",
              "int64      1\n",
              "dtype: int64"
            ]
          },
          "metadata": {
            "tags": []
          },
          "execution_count": 102
        }
      ]
    },
    {
      "cell_type": "code",
      "metadata": {
        "id": "e1LxdKPc4peh",
        "colab": {
          "base_uri": "https://localhost:8080/"
        },
        "outputId": "eb97f634-7b77-4d07-e652-0c1c9e9ccc49"
      },
      "source": [
        "df[['Age']]=df[['Age']].astype('category')\n",
        "df[['Sex']]=df[['Sex']].astype('category')\n",
        "df[['Occupation']]=df[['Occupation']].astype('category')\n",
        "df[['Eager']]=df[['Eager']].astype('category')\n",
        "df[['Implement_safety']]=df[['Implement_safety']].astype('category')\n",
        "##df[['alternate_seating']]=df[['aletrnate_seating']].astype('category')\n",
        "df[['Price_hike']]=df[['Price_hike']].astype('category')\n",
        "df[['Visit_time']]=df[['Visit_time']].astype('category')\n",
        "df[['Food_option']]=df[['Food_option']].astype('category')\n",
        "df[['OTT/Cinema']]=df[['OTT/Cinema']].astype('category')\n",
        "df[['Factors_impacting']]=df[['Factors_impacting']].astype('category')\n",
        "df[['Trustworthy']]=df[['Trustworthy']].astype('category')\n",
        "df.dtypes"
      ],
      "execution_count": null,
      "outputs": [
        {
          "output_type": "execute_result",
          "data": {
            "text/plain": [
              "Name                   object\n",
              "Age                  category\n",
              "Sex                  category\n",
              "Occupation           category\n",
              "Eager                category\n",
              "Location               object\n",
              "Implement_safety     category\n",
              "alternate_seating      object\n",
              "Price_hike           category\n",
              "Visit_time           category\n",
              "Food_option          category\n",
              "OTT/Cinema           category\n",
              "Risk_factor             int64\n",
              "Factors_impacting    category\n",
              "Trustworthy          category\n",
              "dtype: object"
            ]
          },
          "metadata": {
            "tags": []
          },
          "execution_count": 103
        }
      ]
    },
    {
      "cell_type": "code",
      "metadata": {
        "id": "KKtEUvV75ewo",
        "colab": {
          "base_uri": "https://localhost:8080/"
        },
        "outputId": "4cf6dceb-3923-41eb-ce9c-e80736890ff2"
      },
      "source": [
        "df.dtypes.value_counts()"
      ],
      "execution_count": null,
      "outputs": [
        {
          "output_type": "execute_result",
          "data": {
            "text/plain": [
              "object      3\n",
              "category    2\n",
              "category    1\n",
              "category    1\n",
              "category    1\n",
              "category    1\n",
              "category    1\n",
              "int64       1\n",
              "category    1\n",
              "category    1\n",
              "category    1\n",
              "category    1\n",
              "dtype: int64"
            ]
          },
          "metadata": {
            "tags": []
          },
          "execution_count": 104
        }
      ]
    },
    {
      "cell_type": "code",
      "metadata": {
        "id": "JgwZRIOX7oOs",
        "colab": {
          "base_uri": "https://localhost:8080/"
        },
        "outputId": "c2000200-0614-4f25-9eea-b1eb66cfc0c4"
      },
      "source": [
        "df.isnull().sum()"
      ],
      "execution_count": null,
      "outputs": [
        {
          "output_type": "execute_result",
          "data": {
            "text/plain": [
              "Name                 0\n",
              "Age                  0\n",
              "Sex                  0\n",
              "Occupation           0\n",
              "Eager                0\n",
              "Location             2\n",
              "Implement_safety     0\n",
              "alternate_seating    0\n",
              "Price_hike           0\n",
              "Visit_time           0\n",
              "Food_option          0\n",
              "OTT/Cinema           0\n",
              "Risk_factor          0\n",
              "Factors_impacting    0\n",
              "Trustworthy          0\n",
              "dtype: int64"
            ]
          },
          "metadata": {
            "tags": []
          },
          "execution_count": 105
        }
      ]
    },
    {
      "cell_type": "code",
      "metadata": {
        "id": "Qkxp7xVW92iL",
        "colab": {
          "base_uri": "https://localhost:8080/"
        },
        "outputId": "ce23a064-5d18-4c23-8951-6a4418b51428"
      },
      "source": [
        "df['Location'].value_counts()"
      ],
      "execution_count": null,
      "outputs": [
        {
          "output_type": "execute_result",
          "data": {
            "text/plain": [
              "Urban    126\n",
              "Rural     12\n",
              "Name: Location, dtype: int64"
            ]
          },
          "metadata": {
            "tags": []
          },
          "execution_count": 106
        }
      ]
    },
    {
      "cell_type": "code",
      "metadata": {
        "id": "45Td70vA-JrQ"
      },
      "source": [
        "#df['Location'].replace(r'^\\s*$ ', np.nan, regex=True)\n",
        "df[\"Location\"].replace(np.nan, \"Urban\", inplace=True)"
      ],
      "execution_count": null,
      "outputs": []
    },
    {
      "cell_type": "code",
      "metadata": {
        "id": "xXqZ9k2z_QX7",
        "colab": {
          "base_uri": "https://localhost:8080/"
        },
        "outputId": "fdc89e3c-09f0-4fd7-ed86-ce818faf77e1"
      },
      "source": [
        "df.isnull().sum()"
      ],
      "execution_count": null,
      "outputs": [
        {
          "output_type": "execute_result",
          "data": {
            "text/plain": [
              "Name                 0\n",
              "Age                  0\n",
              "Sex                  0\n",
              "Occupation           0\n",
              "Eager                0\n",
              "Location             0\n",
              "Implement_safety     0\n",
              "alternate_seating    0\n",
              "Price_hike           0\n",
              "Visit_time           0\n",
              "Food_option          0\n",
              "OTT/Cinema           0\n",
              "Risk_factor          0\n",
              "Factors_impacting    0\n",
              "Trustworthy          0\n",
              "dtype: int64"
            ]
          },
          "metadata": {
            "tags": []
          },
          "execution_count": 108
        }
      ]
    },
    {
      "cell_type": "code",
      "metadata": {
        "id": "MCKX_aUsUuEd"
      },
      "source": [
        "df[['Location']]=df[['Location']].astype('category')\n"
      ],
      "execution_count": null,
      "outputs": []
    },
    {
      "cell_type": "code",
      "metadata": {
        "id": "jcEspRdw_VjM",
        "colab": {
          "base_uri": "https://localhost:8080/",
          "height": 313
        },
        "outputId": "366397a0-406e-498f-87b3-dcf1ae07c18b"
      },
      "source": [
        "df[\"Risk_factor\"]=df[\"Risk_factor\"].astype(int, copy=True)\n",
        "bins = np.linspace(min(df[\"Risk_factor\"]), max(df[\"Risk_factor\"]), 4)\n",
        "group_names = ['Low', 'Medium', 'High']\n",
        "df['Risk_factor-binned'] = pd.cut(df['Risk_factor'], bins, labels=group_names, include_lowest=True )\n",
        "\n",
        "##Bin Visualization using graph\n",
        "\n",
        "pyplot.bar(group_names, df[\"Risk_factor-binned\"].value_counts())\n",
        "plt.pyplot.xlabel(\"Risk_factor\")\n",
        "plt.pyplot.ylabel(\"count\")\n",
        "plt.pyplot.title(\"RISK FACTOR RANGE\")"
      ],
      "execution_count": null,
      "outputs": [
        {
          "output_type": "execute_result",
          "data": {
            "text/plain": [
              "Text(0.5, 1.0, 'RISK FACTOR RANGE')"
            ]
          },
          "metadata": {
            "tags": []
          },
          "execution_count": 109
        },
        {
          "output_type": "display_data",
          "data": {
            "image/png": "[encoded data removed]",
            "text/plain": [
              "<Figure size 432x288 with 1 Axes>"
            ]
          },
          "metadata": {
            "tags": [],
            "needs_background": "light"
          }
        }
      ]
    },
    {
      "cell_type": "code",
      "metadata": {
        "id": "3O3rb1deBbjr",
        "colab": {
          "base_uri": "https://localhost:8080/"
        },
        "outputId": "eb2d9a8b-010f-4ae8-f492-885ef4c66247"
      },
      "source": [
        "df['Risk_factor'].value_counts()"
      ],
      "execution_count": null,
      "outputs": [
        {
          "output_type": "execute_result",
          "data": {
            "text/plain": [
              "4    44\n",
              "5    43\n",
              "3    34\n",
              "2     8\n",
              "1     6\n",
              "0     5\n",
              "Name: Risk_factor, dtype: int64"
            ]
          },
          "metadata": {
            "tags": []
          },
          "execution_count": 110
        }
      ]
    },
    {
      "cell_type": "code",
      "metadata": {
        "id": "vmW65I_jBoKa",
        "colab": {
          "base_uri": "https://localhost:8080/",
          "height": 1000
        },
        "outputId": "56796eab-e6e7-4f0d-ab26-9c1f5323bcf6"
      },
      "source": [
        "dummy_variable_1 = pd.get_dummies(df[\"OTT/Cinema\"])\n",
        "dummy_variable_1.rename(columns={'OTT entertainment':'OTT', 'Cinema':'Cinema'}, inplace=True)\n",
        "\n",
        "##merging and dropping column fuel-type\n",
        "\n",
        "df = pd.concat([df, dummy_variable_1], axis=1)\n",
        "df.drop(\"OTT/Cinema\", axis = 1, inplace=True)\n",
        "\n",
        "df.head(15)"
      ],
      "execution_count": null,
      "outputs": [
        {
          "output_type": "execute_result",
          "data": {
            "text/html": [
              "<div>\n",
              "<style scoped>\n",
              "    .dataframe tbody tr th:only-of-type {\n",
              "        vertical-align: middle;\n",
              "    }\n",
              "\n",
              "    .dataframe tbody tr th {\n",
              "        vertical-align: top;\n",
              "    }\n",
              "\n",
              "    .dataframe thead th {\n",
              "        text-align: right;\n",
              "    }\n",
              "</style>\n",
              "<table border=\"1\" class=\"dataframe\">\n",
              "  <thead>\n",
              "    <tr style=\"text-align: right;\">\n",
              "      <th></th>\n",
              "      <th>Name</th>\n",
              "      <th>Age</th>\n",
              "      <th>Sex</th>\n",
              "      <th>Occupation</th>\n",
              "      <th>Eager</th>\n",
              "      <th>Location</th>\n",
              "      <th>Implement_safety</th>\n",
              "      <th>alternate_seating</th>\n",
              "      <th>Price_hike</th>\n",
              "      <th>Visit_time</th>\n",
              "      <th>Food_option</th>\n",
              "      <th>Risk_factor</th>\n",
              "      <th>Factors_impacting</th>\n",
              "      <th>Trustworthy</th>\n",
              "      <th>Risk_factor-binned</th>\n",
              "      <th>Cinemas</th>\n",
              "      <th>OTT</th>\n",
              "    </tr>\n",
              "  </thead>\n",
              "  <tbody>\n",
              "    <tr>\n",
              "      <th>0</th>\n",
              "      <td>Karthik R</td>\n",
              "      <td>18-28</td>\n",
              "      <td>Male</td>\n",
              "      <td>Student</td>\n",
              "      <td>No</td>\n",
              "      <td>Urban</td>\n",
              "      <td>Strongly agree</td>\n",
              "      <td>Agree</td>\n",
              "      <td>No</td>\n",
              "      <td>Night time (the last two shows when there is l...</td>\n",
              "      <td>Highly prefer carrying own food</td>\n",
              "      <td>4</td>\n",
              "      <td>To hang out with friends/families</td>\n",
              "      <td>Theatre</td>\n",
              "      <td>High</td>\n",
              "      <td>1</td>\n",
              "      <td>0</td>\n",
              "    </tr>\n",
              "    <tr>\n",
              "      <th>1</th>\n",
              "      <td>Aishwarya E D'Souza</td>\n",
              "      <td>18-28</td>\n",
              "      <td>Female</td>\n",
              "      <td>Student</td>\n",
              "      <td>No</td>\n",
              "      <td>Urban</td>\n",
              "      <td>Disagree</td>\n",
              "      <td>Disagree</td>\n",
              "      <td>No</td>\n",
              "      <td>Not visiting cinemas</td>\n",
              "      <td>Not visiting Cinemas</td>\n",
              "      <td>4</td>\n",
              "      <td>Precautions taken by cinemas, Cinemas in conta...</td>\n",
              "      <td>PVR</td>\n",
              "      <td>High</td>\n",
              "      <td>0</td>\n",
              "      <td>1</td>\n",
              "    </tr>\n",
              "    <tr>\n",
              "      <th>2</th>\n",
              "      <td>Chandan</td>\n",
              "      <td>18-28</td>\n",
              "      <td>Male</td>\n",
              "      <td>Student</td>\n",
              "      <td>No</td>\n",
              "      <td>Urban</td>\n",
              "      <td>Neutral, depends on the number of people visit...</td>\n",
              "      <td>Disagree</td>\n",
              "      <td>No</td>\n",
              "      <td>Night time (the last two shows when there is l...</td>\n",
              "      <td>Not visiting Cinemas</td>\n",
              "      <td>4</td>\n",
              "      <td>Not interested in visiting cinemas</td>\n",
              "      <td>None</td>\n",
              "      <td>High</td>\n",
              "      <td>0</td>\n",
              "      <td>1</td>\n",
              "    </tr>\n",
              "    <tr>\n",
              "      <th>3</th>\n",
              "      <td>Sunaina</td>\n",
              "      <td>18-28</td>\n",
              "      <td>Female</td>\n",
              "      <td>Professionals/Government/Private employees</td>\n",
              "      <td>No</td>\n",
              "      <td>Urban</td>\n",
              "      <td>Strongly agree</td>\n",
              "      <td>Agree</td>\n",
              "      <td>No</td>\n",
              "      <td>Not visiting cinemas</td>\n",
              "      <td>Not visiting Cinemas</td>\n",
              "      <td>4</td>\n",
              "      <td>Not interested in visiting cinemas</td>\n",
              "      <td>PVR</td>\n",
              "      <td>High</td>\n",
              "      <td>0</td>\n",
              "      <td>1</td>\n",
              "    </tr>\n",
              "    <tr>\n",
              "      <th>4</th>\n",
              "      <td>Sunaina</td>\n",
              "      <td>18-28</td>\n",
              "      <td>Female</td>\n",
              "      <td>Professionals/Government/Private employees</td>\n",
              "      <td>No</td>\n",
              "      <td>Urban</td>\n",
              "      <td>Strongly agree</td>\n",
              "      <td>Agree</td>\n",
              "      <td>No</td>\n",
              "      <td>Not visiting cinemas</td>\n",
              "      <td>Not visiting Cinemas</td>\n",
              "      <td>4</td>\n",
              "      <td>Not interested in visiting cinemas</td>\n",
              "      <td>PVR</td>\n",
              "      <td>High</td>\n",
              "      <td>0</td>\n",
              "      <td>1</td>\n",
              "    </tr>\n",
              "    <tr>\n",
              "      <th>5</th>\n",
              "      <td>Shweta kulkarni</td>\n",
              "      <td>18-28</td>\n",
              "      <td>Female</td>\n",
              "      <td>Student</td>\n",
              "      <td>No</td>\n",
              "      <td>Urban</td>\n",
              "      <td>Neutral, depends on the number of people visit...</td>\n",
              "      <td>Agree</td>\n",
              "      <td>Yes</td>\n",
              "      <td>Anytime as per your conveience</td>\n",
              "      <td>No food should be entertained at cinemas</td>\n",
              "      <td>3</td>\n",
              "      <td>Precautions taken by cinemas, Coronavirus case...</td>\n",
              "      <td>PVR</td>\n",
              "      <td>Medium</td>\n",
              "      <td>1</td>\n",
              "      <td>0</td>\n",
              "    </tr>\n",
              "    <tr>\n",
              "      <th>6</th>\n",
              "      <td>Avinash B.U</td>\n",
              "      <td>18-28</td>\n",
              "      <td>Male</td>\n",
              "      <td>Student</td>\n",
              "      <td>Yes</td>\n",
              "      <td>Rural</td>\n",
              "      <td>Strongly agree</td>\n",
              "      <td>Agree</td>\n",
              "      <td>No</td>\n",
              "      <td>Anytime as per your conveience</td>\n",
              "      <td>Highly prefer carrying own food</td>\n",
              "      <td>5</td>\n",
              "      <td>Precautions taken by cinemas, Coronavirus case...</td>\n",
              "      <td>PVR</td>\n",
              "      <td>High</td>\n",
              "      <td>1</td>\n",
              "      <td>0</td>\n",
              "    </tr>\n",
              "    <tr>\n",
              "      <th>7</th>\n",
              "      <td>Supriya k</td>\n",
              "      <td>18-28</td>\n",
              "      <td>Female</td>\n",
              "      <td>Student</td>\n",
              "      <td>Yes</td>\n",
              "      <td>Urban</td>\n",
              "      <td>Strongly agree</td>\n",
              "      <td>Agree</td>\n",
              "      <td>Yes</td>\n",
              "      <td>Anytime as per your conveience</td>\n",
              "      <td>No food should be entertained at cinemas</td>\n",
              "      <td>3</td>\n",
              "      <td>Coronavirus cases in the city</td>\n",
              "      <td>PVR</td>\n",
              "      <td>Medium</td>\n",
              "      <td>1</td>\n",
              "      <td>0</td>\n",
              "    </tr>\n",
              "    <tr>\n",
              "      <th>8</th>\n",
              "      <td>Kavya S</td>\n",
              "      <td>18-28</td>\n",
              "      <td>Female</td>\n",
              "      <td>Student</td>\n",
              "      <td>No</td>\n",
              "      <td>Urban</td>\n",
              "      <td>Neutral, depends on the number of people visit...</td>\n",
              "      <td>Disagree</td>\n",
              "      <td>No</td>\n",
              "      <td>Not visiting cinemas</td>\n",
              "      <td>Not visiting Cinemas</td>\n",
              "      <td>5</td>\n",
              "      <td>Not interested in visiting cinemas</td>\n",
              "      <td>PVR</td>\n",
              "      <td>High</td>\n",
              "      <td>1</td>\n",
              "      <td>0</td>\n",
              "    </tr>\n",
              "    <tr>\n",
              "      <th>9</th>\n",
              "      <td>Srihari</td>\n",
              "      <td>18-28</td>\n",
              "      <td>Male</td>\n",
              "      <td>Professionals/Government/Private employees</td>\n",
              "      <td>No</td>\n",
              "      <td>Urban</td>\n",
              "      <td>Strongly agree</td>\n",
              "      <td>Agree</td>\n",
              "      <td>No</td>\n",
              "      <td>Anytime as per your conveience</td>\n",
              "      <td>Highly prefer carrying own food</td>\n",
              "      <td>3</td>\n",
              "      <td>Precautions taken by cinemas, Cinemas in conta...</td>\n",
              "      <td>None</td>\n",
              "      <td>Medium</td>\n",
              "      <td>0</td>\n",
              "      <td>1</td>\n",
              "    </tr>\n",
              "    <tr>\n",
              "      <th>10</th>\n",
              "      <td>Harshitha G h</td>\n",
              "      <td>18-28</td>\n",
              "      <td>Female</td>\n",
              "      <td>Professionals/Government/Private employees</td>\n",
              "      <td>Yes</td>\n",
              "      <td>Urban</td>\n",
              "      <td>Neutral, depends on the number of people visit...</td>\n",
              "      <td>Agree</td>\n",
              "      <td>No</td>\n",
              "      <td>Day time (any of the three shows when there is...</td>\n",
              "      <td>Need food availability at cinemas and options ...</td>\n",
              "      <td>3</td>\n",
              "      <td>To hang out with friends/families</td>\n",
              "      <td>PVR</td>\n",
              "      <td>Medium</td>\n",
              "      <td>1</td>\n",
              "      <td>0</td>\n",
              "    </tr>\n",
              "    <tr>\n",
              "      <th>11</th>\n",
              "      <td>Sandeep Selvakumar</td>\n",
              "      <td>18-28</td>\n",
              "      <td>Male</td>\n",
              "      <td>Professionals/Government/Private employees</td>\n",
              "      <td>No</td>\n",
              "      <td>Urban</td>\n",
              "      <td>Neutral, depends on the number of people visit...</td>\n",
              "      <td>Agree</td>\n",
              "      <td>No</td>\n",
              "      <td>Not visiting cinemas</td>\n",
              "      <td>Highly prefer carrying own food</td>\n",
              "      <td>4</td>\n",
              "      <td>Coronavirus cases in the city</td>\n",
              "      <td>Inox</td>\n",
              "      <td>High</td>\n",
              "      <td>0</td>\n",
              "      <td>1</td>\n",
              "    </tr>\n",
              "    <tr>\n",
              "      <th>12</th>\n",
              "      <td>Tony Sachin</td>\n",
              "      <td>18-28</td>\n",
              "      <td>Male</td>\n",
              "      <td>Student</td>\n",
              "      <td>No</td>\n",
              "      <td>Urban</td>\n",
              "      <td>Strongly agree</td>\n",
              "      <td>Agree</td>\n",
              "      <td>Yes</td>\n",
              "      <td>Anytime as per your conveience</td>\n",
              "      <td>Highly prefer carrying own food</td>\n",
              "      <td>4</td>\n",
              "      <td>Cinemas in containment or safe zone, Interest ...</td>\n",
              "      <td>PVR</td>\n",
              "      <td>High</td>\n",
              "      <td>0</td>\n",
              "      <td>1</td>\n",
              "    </tr>\n",
              "    <tr>\n",
              "      <th>13</th>\n",
              "      <td>GAGAN DEEP R</td>\n",
              "      <td>18-28</td>\n",
              "      <td>Male</td>\n",
              "      <td>Student</td>\n",
              "      <td>Yes</td>\n",
              "      <td>Urban</td>\n",
              "      <td>Strongly agree</td>\n",
              "      <td>Disagree</td>\n",
              "      <td>No</td>\n",
              "      <td>Anytime as per your conveience</td>\n",
              "      <td>Highly prefer carrying own food</td>\n",
              "      <td>2</td>\n",
              "      <td>Coronavirus cases in the city</td>\n",
              "      <td>PVR</td>\n",
              "      <td>Medium</td>\n",
              "      <td>1</td>\n",
              "      <td>0</td>\n",
              "    </tr>\n",
              "    <tr>\n",
              "      <th>14</th>\n",
              "      <td>Vishnu</td>\n",
              "      <td>18-28</td>\n",
              "      <td>Male</td>\n",
              "      <td>Student</td>\n",
              "      <td>Yes</td>\n",
              "      <td>Urban</td>\n",
              "      <td>Strongly agree</td>\n",
              "      <td>Agree</td>\n",
              "      <td>Yes</td>\n",
              "      <td>Night time (the last two shows when there is l...</td>\n",
              "      <td>Highly prefer carrying own food</td>\n",
              "      <td>3</td>\n",
              "      <td>Precautions taken by cinemas, Coronavirus case...</td>\n",
              "      <td>PVR</td>\n",
              "      <td>Medium</td>\n",
              "      <td>1</td>\n",
              "      <td>0</td>\n",
              "    </tr>\n",
              "  </tbody>\n",
              "</table>\n",
              "</div>"
            ],
            "text/plain": [
              "                    Name    Age     Sex  ... Risk_factor-binned Cinemas OTT\n",
              "0              Karthik R  18-28    Male  ...               High       1   0\n",
              "1   Aishwarya E D'Souza   18-28  Female  ...               High       0   1\n",
              "2                Chandan  18-28    Male  ...               High       0   1\n",
              "3                Sunaina  18-28  Female  ...               High       0   1\n",
              "4                Sunaina  18-28  Female  ...               High       0   1\n",
              "5        Shweta kulkarni  18-28  Female  ...             Medium       1   0\n",
              "6            Avinash B.U  18-28    Male  ...               High       1   0\n",
              "7              Supriya k  18-28  Female  ...             Medium       1   0\n",
              "8                Kavya S  18-28  Female  ...               High       1   0\n",
              "9               Srihari   18-28    Male  ...             Medium       0   1\n",
              "10         Harshitha G h  18-28  Female  ...             Medium       1   0\n",
              "11    Sandeep Selvakumar  18-28    Male  ...               High       0   1\n",
              "12           Tony Sachin  18-28    Male  ...               High       0   1\n",
              "13          GAGAN DEEP R  18-28    Male  ...             Medium       1   0\n",
              "14                Vishnu  18-28    Male  ...             Medium       1   0\n",
              "\n",
              "[15 rows x 17 columns]"
            ]
          },
          "metadata": {
            "tags": []
          },
          "execution_count": 111
        }
      ]
    },
    {
      "cell_type": "code",
      "metadata": {
        "id": "5wflejtoHw5J",
        "colab": {
          "base_uri": "https://localhost:8080/",
          "height": 417
        },
        "outputId": "95a411a7-d865-472c-d780-cc41ed181640"
      },
      "source": [
        "df.tail()"
      ],
      "execution_count": null,
      "outputs": [
        {
          "output_type": "execute_result",
          "data": {
            "text/html": [
              "<div>\n",
              "<style scoped>\n",
              "    .dataframe tbody tr th:only-of-type {\n",
              "        vertical-align: middle;\n",
              "    }\n",
              "\n",
              "    .dataframe tbody tr th {\n",
              "        vertical-align: top;\n",
              "    }\n",
              "\n",
              "    .dataframe thead th {\n",
              "        text-align: right;\n",
              "    }\n",
              "</style>\n",
              "<table border=\"1\" class=\"dataframe\">\n",
              "  <thead>\n",
              "    <tr style=\"text-align: right;\">\n",
              "      <th></th>\n",
              "      <th>Name</th>\n",
              "      <th>Age</th>\n",
              "      <th>Sex</th>\n",
              "      <th>Occupation</th>\n",
              "      <th>Eager</th>\n",
              "      <th>Location</th>\n",
              "      <th>Implement_safety</th>\n",
              "      <th>alternate_seating</th>\n",
              "      <th>Price_hike</th>\n",
              "      <th>Visit_time</th>\n",
              "      <th>Food_option</th>\n",
              "      <th>Risk_factor</th>\n",
              "      <th>Factors_impacting</th>\n",
              "      <th>Trustworthy</th>\n",
              "      <th>Risk_factor-binned</th>\n",
              "      <th>Cinemas</th>\n",
              "      <th>OTT</th>\n",
              "    </tr>\n",
              "  </thead>\n",
              "  <tbody>\n",
              "    <tr>\n",
              "      <th>135</th>\n",
              "      <td>Sagar</td>\n",
              "      <td>38-48</td>\n",
              "      <td>Male</td>\n",
              "      <td>Professionals/Government/Private employees</td>\n",
              "      <td>No</td>\n",
              "      <td>Urban</td>\n",
              "      <td>Strongly agree</td>\n",
              "      <td>Agree</td>\n",
              "      <td>Yes</td>\n",
              "      <td>Anytime as per your conveience</td>\n",
              "      <td>Highly prefer carrying own food</td>\n",
              "      <td>5</td>\n",
              "      <td>Precautions taken by cinemas, Not interested i...</td>\n",
              "      <td>None</td>\n",
              "      <td>High</td>\n",
              "      <td>1</td>\n",
              "      <td>0</td>\n",
              "    </tr>\n",
              "    <tr>\n",
              "      <th>136</th>\n",
              "      <td>Aishwarya</td>\n",
              "      <td>28-38</td>\n",
              "      <td>Female</td>\n",
              "      <td>Professionals/Government/Private employees</td>\n",
              "      <td>No</td>\n",
              "      <td>Urban</td>\n",
              "      <td>Strongly agree</td>\n",
              "      <td>Agree</td>\n",
              "      <td>No</td>\n",
              "      <td>Anytime as per your conveience</td>\n",
              "      <td>Highly prefer carrying own food</td>\n",
              "      <td>5</td>\n",
              "      <td>Precautions taken by cinemas, Coronavirus case...</td>\n",
              "      <td>None</td>\n",
              "      <td>High</td>\n",
              "      <td>1</td>\n",
              "      <td>0</td>\n",
              "    </tr>\n",
              "    <tr>\n",
              "      <th>137</th>\n",
              "      <td>Shashi</td>\n",
              "      <td>38-48</td>\n",
              "      <td>Male</td>\n",
              "      <td>Professionals/Government/Private employees</td>\n",
              "      <td>No</td>\n",
              "      <td>Urban</td>\n",
              "      <td>Strongly agree</td>\n",
              "      <td>Agree</td>\n",
              "      <td>No</td>\n",
              "      <td>Anytime as per your conveience</td>\n",
              "      <td>No food should be entertained at cinemas</td>\n",
              "      <td>5</td>\n",
              "      <td>Coronavirus cases in the city</td>\n",
              "      <td>None</td>\n",
              "      <td>High</td>\n",
              "      <td>1</td>\n",
              "      <td>0</td>\n",
              "    </tr>\n",
              "    <tr>\n",
              "      <th>138</th>\n",
              "      <td>Kishan</td>\n",
              "      <td>28-38</td>\n",
              "      <td>Male</td>\n",
              "      <td>Business</td>\n",
              "      <td>No</td>\n",
              "      <td>Urban</td>\n",
              "      <td>Neutral, depends on the number of people visit...</td>\n",
              "      <td>Disagree</td>\n",
              "      <td>No</td>\n",
              "      <td>Anytime as per your conveience</td>\n",
              "      <td>Highly prefer carrying own food</td>\n",
              "      <td>4</td>\n",
              "      <td>Precautions taken by cinemas</td>\n",
              "      <td>PVR</td>\n",
              "      <td>High</td>\n",
              "      <td>1</td>\n",
              "      <td>0</td>\n",
              "    </tr>\n",
              "    <tr>\n",
              "      <th>139</th>\n",
              "      <td>Lakshmi</td>\n",
              "      <td>28-38</td>\n",
              "      <td>Female</td>\n",
              "      <td>Home maker</td>\n",
              "      <td>No</td>\n",
              "      <td>Urban</td>\n",
              "      <td>Strongly agree</td>\n",
              "      <td>Agree</td>\n",
              "      <td>No</td>\n",
              "      <td>Anytime as per your conveience</td>\n",
              "      <td>Highly prefer carrying own food</td>\n",
              "      <td>5</td>\n",
              "      <td>Coronavirus cases in the city</td>\n",
              "      <td>PVR</td>\n",
              "      <td>High</td>\n",
              "      <td>1</td>\n",
              "      <td>0</td>\n",
              "    </tr>\n",
              "  </tbody>\n",
              "</table>\n",
              "</div>"
            ],
            "text/plain": [
              "          Name    Age     Sex  ... Risk_factor-binned Cinemas OTT\n",
              "135      Sagar  38-48    Male  ...               High       1   0\n",
              "136  Aishwarya  28-38  Female  ...               High       1   0\n",
              "137     Shashi  38-48    Male  ...               High       1   0\n",
              "138     Kishan  28-38    Male  ...               High       1   0\n",
              "139   Lakshmi   28-38  Female  ...               High       1   0\n",
              "\n",
              "[5 rows x 17 columns]"
            ]
          },
          "metadata": {
            "tags": []
          },
          "execution_count": 112
        }
      ]
    },
    {
      "cell_type": "code",
      "metadata": {
        "id": "ySGgQKcIH4nD",
        "colab": {
          "base_uri": "https://localhost:8080/"
        },
        "outputId": "7df9dd8b-7b5f-4762-d6af-895697a1e138"
      },
      "source": [
        "df.size"
      ],
      "execution_count": null,
      "outputs": [
        {
          "output_type": "execute_result",
          "data": {
            "text/plain": [
              "2380"
            ]
          },
          "metadata": {
            "tags": []
          },
          "execution_count": 113
        }
      ]
    },
    {
      "cell_type": "code",
      "metadata": {
        "id": "WClPa4TtH7eh",
        "colab": {
          "base_uri": "https://localhost:8080/"
        },
        "outputId": "678d53c0-9900-4c08-8b9f-c11bf2a71056"
      },
      "source": [
        "df.shape"
      ],
      "execution_count": null,
      "outputs": [
        {
          "output_type": "execute_result",
          "data": {
            "text/plain": [
              "(140, 17)"
            ]
          },
          "metadata": {
            "tags": []
          },
          "execution_count": 114
        }
      ]
    },
    {
      "cell_type": "code",
      "metadata": {
        "id": "1bZC-a1hFMhx"
      },
      "source": [
        "df.to_csv('audience_cinema_cleaned_dataset')"
      ],
      "execution_count": null,
      "outputs": []
    },
    {
      "cell_type": "code",
      "metadata": {
        "id": "hoEIJfE2GRlK"
      },
      "source": [
        ""
      ],
      "execution_count": null,
      "outputs": []
    }
  ]
}